{
 "cells": [
  {
   "cell_type": "markdown",
   "metadata": {},
   "source": [
    "* 브루트포스(bruteforce)  \n",
    "무식하게 모든 경우의 수를 다 확인함  \n",
    "경우의 수가 적을 때, 본인의 코드에 대한 반례를 찾을 때.  \n",
    "브루트포스는 보통 코드가 복잡하지 않고, 데이터에 대한 맞는 답을 내도록 보장하는 것이 상대적으로 쉽기 때문에,  \n",
    "일단 짜고, 좀 더 효율적인 알고리즘을 확인하는 용도로 사용할 수 있다."
   ]
  },
  {
   "cell_type": "markdown",
   "metadata": {},
   "source": [
    "* 백트래킹  \n",
    "기본골격은 브루트포스와 비슷하다.  \n",
    "하지만, 어떤 경우의 수에 대해서 `절대 답이 될 수 없음` 이 보장되었을 때, 그 경우의 수를 계속 진행하지 않고, 전으로 되돌리는(backtracking)한다는 특징이 있다."
   ]
  },
  {
   "cell_type": "markdown",
   "metadata": {},
   "source": [
    "완전제곱수(6131)  \n",
    "간단하니까 말로만 한다면...  \n",
    "A, B, N 등 입력값이 크지 않기 때문에,  \n",
    "모든 경우의 수를 돌리더라도 1초안에 해결 가능하다.  \n",
    "b를 1 부터 500 까지, 그 내부에서 a를 b보다 크고, 500보다 작게 for문을 돌아서 n이 조건에 부합한지 확인하면 된다."
   ]
  },
  {
   "cell_type": "markdown",
   "metadata": {},
   "source": [
    "영화감독 숌(1436)  \n",
    "1부터 쭉 돌면서 `666`이 있는지 확인하면 끝  \n",
    "그리고 666이 생기려면 최소 3자리이므로 두자리는 생략해도 된다. 사실 3자리도 666 하나라서, 4자리부터 해도 된다."
   ]
  },
  {
   "cell_type": "markdown",
   "metadata": {},
   "source": [
    "1, 2, 3 더하기 (9095) --> ICPC 연습문제  \n",
    "```cpp\n",
    "#include <iostream>\n",
    "#include <vector>\n",
    "\n",
    "using namespace std;\n",
    "\n",
    "int main() {\n",
    "    vector<int> dp(12);\n",
    "    dp[1] = 1, dp[2] = 2, dp[3] = 4;\n",
    "\n",
    "    for(int i = 4; i < 12; i++) {\n",
    "        dp[i] = dp[i - 1] + dp[i - 2] + dp[i - 3];\n",
    "    }\n",
    "\n",
    "    int length = 0;\n",
    "    cin >> length;\n",
    "    int num = 0;\n",
    "    for(int i = 0; i < length; i++) {\n",
    "        cin >> num;\n",
    "        cout << dp[num] << '\\n';\n",
    "    }\n",
    "\n",
    "    return 0;\n",
    "}\n",
    "```\n",
    "\n",
    "-----------"
   ]
  },
  {
   "cell_type": "markdown",
   "metadata": {},
   "source": [
    "차이를 최대로 (10819) --> ICPC 필수문제"
   ]
  },
  {
   "cell_type": "markdown",
   "metadata": {},
   "source": [
    "가능한 모든 경우의 수를 만들고,  \n",
    "경우의 수에 대한 계산을 하고,  \n",
    "최댓값을 갱신해주면 된다.  \n",
    "정수가 최대 8개이기 때문에 가능하다.  \n",
    "하지만, 경우의 수는 2^8이기 때문에 많긴 하다.  \n",
    "  \n",
    "...근데 모든 경우의 수를 어떻게 만들까..?  \n",
    "재귀..?"
   ]
  },
  {
   "cell_type": "markdown",
   "metadata": {},
   "source": [
    "사실 c++은 `algorithm`에서 `next_permutation()`,  \n",
    "python은 `itertools` 모듈에서 `permutations()` 를 사용하면 금방 짠다....  \n",
    "사용한 버전, 안사용한 버전 둘다 해보자  \n",
    "python 안 사용한 버전 백준에 있긴 한데... 좀 그지같네.."
   ]
  },
  {
   "cell_type": "markdown",
   "metadata": {},
   "source": [
    "cpp(사용 x)  \n",
    "```cpp\n",
    "#include <iostream>\n",
    "#include <vector>\n",
    "#include <algorithm>\n",
    "\n",
    "using namespace std;\n",
    "\n",
    "int solve(vector<int> arr, int depth, int result);\n",
    "\n",
    "int main() {\n",
    "    int length = 0;\n",
    "    cin >> length;\n",
    "    vector<int> arr(length);\n",
    "    for(int i = 0; i < length; i++) cin >> arr[i];\n",
    "\n",
    "    int result = -800;\n",
    "    result = solve(arr, 0, result);\n",
    "\n",
    "    cout << result;\n",
    "\n",
    "    return 0;\n",
    "}\n",
    "\n",
    "int solve(vector<int> arr, int depth, int result) {\n",
    "    if(depth == arr.size()) {\n",
    "        int tmp = 0;\n",
    "        for(int i = 0; i < arr.size() - 1; i++) {\n",
    "            tmp += abs(arr[i] - arr[i + 1]);\n",
    "        }\n",
    "//        for(int n : arr) cout << n << \" \";\n",
    "//        cout << '\\n';\n",
    "\n",
    "        if(result < tmp) result = tmp;\n",
    "        return result;\n",
    "    }\n",
    "\n",
    "    for(int i = depth; i < arr.size(); i++) {\n",
    "        swap(arr[i], arr[depth]);\n",
    "        result = solve(arr, depth + 1, result);\n",
    "        swap(arr[depth], arr[i]);\n",
    "    }\n",
    "\n",
    "    return result;\n",
    "}\n",
    "```"
   ]
  },
  {
   "cell_type": "markdown",
   "metadata": {},
   "source": [
    "연산자 끼워넣기(14888)"
   ]
  },
  {
   "cell_type": "markdown",
   "metadata": {},
   "source": [
    "```cpp\n",
    "#include <iostream>\n",
    "#include <vector>\n",
    "#include <algorithm>\n",
    "\n",
    "using namespace std;\n",
    "\n",
    "int main() {\n",
    "    int length = 0;\n",
    "    cin >> length;\n",
    "    vector<int> num(length);\n",
    "    for(int i = 0; i < length; i++) cin >> num[i];\n",
    "\n",
    "    vector<int> op;\n",
    "    int tmp = 0;\n",
    "    for(int i = 1; i < 5; i++) {\n",
    "        cin >> tmp;\n",
    "        if(tmp != 0) op.insert(op.end(), tmp, i);\n",
    "    }\n",
    "\n",
    "    int max = -100000000, min = 1000000001;\n",
    "\n",
    "    do {\n",
    "        tmp = num[0];\n",
    "        for(int i = 0; i < length - 1; i++) {\n",
    "            if(op[i] == 1) {\n",
    "                tmp += num[i + 1];\n",
    "            }\n",
    "            else if(op[i] == 2) {\n",
    "                tmp -= num[i + 1];\n",
    "            }\n",
    "            else if(op[i] == 3) {\n",
    "                tmp *=  num[i + 1];\n",
    "            }\n",
    "            else {\n",
    "                tmp /= num[i + 1];\n",
    "            }\n",
    "        }\n",
    "        if(tmp > max) max = tmp;\n",
    "        if(tmp < min) min = tmp;\n",
    "\n",
    "    } while(next_permutation(op.begin(), op.end()));\n",
    "\n",
    "    cout << max << '\\n' << min;\n",
    "\n",
    "    return 0;\n",
    "}\n",
    "```"
   ]
  },
  {
   "cell_type": "markdown",
   "metadata": {},
   "source": [
    "스타트와 링크(14889)  \n",
    "역시 최대 20명이기 때문에  \n",
    "모든 경우의 수는 20명중 10명을 뽑는것이기 때문에,  \n",
    "20C10이다.  \n",
    "번외로 경우의 수를 비트로 나타내면 어떨까?  \n",
    "c++ 이나 python 이나 bit 연산자 동일"
   ]
  },
  {
   "cell_type": "markdown",
   "metadata": {},
   "source": [
    "```cpp\n",
    "#include <iostream>\n",
    "#include <vector>\n",
    "\n",
    "using namespace std;\n",
    "\n",
    "int main() {\n",
    "    int length = 0;\n",
    "    cin >> length;\n",
    "    vector<vector<int>> plane(length, vector<int>(length, 0));\n",
    "\n",
    "    for(int r = 0; r < length; r++) {\n",
    "        for(int c = 0; c < length; c++) {\n",
    "            cin >> plane[r][c];\n",
    "        }\n",
    "    }\n",
    "    int pow = 1;\n",
    "    for(int i = 0; i < length; i++) pow *= 2;\n",
    "\n",
    "    vector<int> team1;\n",
    "    vector<int> team2;\n",
    "    int team1_sc = 0, team2_sc = 0;\n",
    "    int min_sc = 20000;\n",
    "    for(int i = 1; i < pow; i++) { // 각각의 경우의 수\n",
    "        team1_sc = 0, team2_sc = 0;\n",
    "        team1.clear();\n",
    "        team2.clear();\n",
    "        for(int j = 0; j < length; j++) { // team 쪼갬\n",
    "            if((1 << j) & i) team1.push_back(j);\n",
    "            else team2.push_back(j);\n",
    "        }\n",
    "        if(team1.size() == length/2) { // 점수 계산\n",
    "            for(int n = 0; n < length/2; n++) {\n",
    "                for(int m = 0; m < length/2; m++) {\n",
    "                    team1_sc += plane[team1[n]][team1[m]];\n",
    "                    team2_sc += plane[team2[n]][team2[m]];\n",
    "                }\n",
    "            }\n",
    "            if(abs(team1_sc - team2_sc) < min_sc) min_sc = abs(team1_sc - team2_sc);\n",
    "        }\n",
    "    }\n",
    "\n",
    "    cout << min_sc;\n",
    "\n",
    "    return 0;\n",
    "}\n",
    "```"
   ]
  },
  {
   "cell_type": "markdown",
   "metadata": {},
   "source": [
    "부분수열의 합(1182)  \n",
    "역시 비트마스크를 활용해보자"
   ]
  },
  {
   "cell_type": "markdown",
   "metadata": {},
   "source": [
    "```cpp\n",
    "#include <iostream>\n",
    "#include <vector>\n",
    "\n",
    "using namespace std;\n",
    "\n",
    "int main() {\n",
    "    int length = 0, goal = 0;\n",
    "    cin >> length >> goal;\n",
    "    vector<int> arr(length);\n",
    "    for(int i = 0; i < length; i++) cin >> arr[i];\n",
    "\n",
    "    int pow = 1;\n",
    "    for(int i = 0; i < length; i++) pow *= 2;\n",
    "\n",
    "    int cnt = 0, tmp = 0;\n",
    "    for(int i = 1; i < pow; i++) {\n",
    "        tmp = 0;\n",
    "        for(int j = 0; j <= length - 1; j++) {\n",
    "            if((1 << j) & i) tmp += arr[j];\n",
    "        }\n",
    "        if(tmp == goal) cnt++;\n",
    "    }\n",
    "\n",
    "    cout << cnt;\n",
    "\n",
    "\n",
    "    return 0;\n",
    "}\n",
    "```"
   ]
  }
 ],
 "metadata": {
  "language_info": {
   "name": "python"
  },
  "orig_nbformat": 4
 },
 "nbformat": 4,
 "nbformat_minor": 2
}
