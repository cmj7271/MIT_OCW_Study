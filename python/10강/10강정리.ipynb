{
 "cells": [
  {
   "cell_type": "markdown",
   "metadata": {},
   "source": [
    "* 시간복잡도  \n",
    "왜 사용하는가(~~문제풀려고~~)  \n",
    "대략적인 시간을 파악하기 위해서  \n",
    "단순하게 시간을 측정하는 방법이 있지만,  \n",
    "이는 환경(컴퓨터, 컴파일러, 입력값)에 따라 달라지기 때문에 비효율적임  \n",
    "또한, 사람이 개인적으로 넣는 데이터의 수는 적을 수 밖에 없고, 현대의 컴퓨터는 충분히 빠르기 때문에 이로는 시간 비교는 힘들다.  \n",
    "--> 일반적으로 비교하기 위한 추상화(일반화)가 필요하다.  \n",
    "--> 그렇다면, 코드내의 연산을 세면 되지 않을까?  \n",
    "+,-,*,/,% 등등을 모두 같은 시간이 걸린다고 가정하고 계산하는 것이다.  \n",
    "이러한 방법도 충분히 좋은 방법이지만, 우리의 목표는 큰 데이터에 대해서 시간이 얼마나 걸리는지 알아보고 싶다는 것이다.(~~또한 이 방법은 귀찮다~~)  \n",
    "그래서 좀 더 일반화해보자  \n",
    "3n + 4 는 분명히 2n 보다는 크다.  \n",
    "하지만, 충분히 큰 수에 대해서는 큰 차이가 없다.  \n",
    "(n = 10000000000 --> 30000000004, 20000000000)  \n",
    "따라서, 가장 단순한 형태인 n으로써 대표한다.  \n",
    "목표는 `대략적인` 복잡도를 파악하는 것이기 때문에,  \n",
    "이 방법은 계산하기 상대적으로 쉬우며, 효과적이다.  "
   ]
  },
  {
   "cell_type": "markdown",
   "metadata": {},
   "source": [
    "* 공간복잡도는 어따 팔아먹음  \n",
    "하드웨어의 급속한 발전에 따라 저장공간이 비약적으로 늘어남  \n",
    "이에 상대적으로 신경쓰지 않아도 됨  \n",
    "int 형은 4byte로 32bit인데 기본 RAM 용량이 8GB이고, 이는 10^9byte이다.  \n",
    "또한, 보통 공간복잡도는 시간복잡도와 `trade-off`관계이다.  \n",
    "즉, 사용하는 용량이 커질수록, 빨라지는 경향이 있다.  \n",
    "ex) 피보나치 수열에 대해, 메모이제이션을 사용할 때,  \n",
    "이전 값을 저장하는 `추가용량` 이 발생하지만, `시간`이 단축됨."
   ]
  },
  {
   "cell_type": "markdown",
   "metadata": {},
   "source": [
    "아래의 코드에 대한 시간복잡도를 구해보자."
   ]
  },
  {
   "cell_type": "markdown",
   "metadata": {},
   "source": [
    "```python\n",
    "def f(n) :\n",
    "# n 은 >=0 인 int\n",
    "    for i in range(n) :\n",
    "        for j in range(i) :\n",
    "            print(\"a\")\n",
    "```\n",
    "--> i 당 i번 출력함 --> 1 + 2 + 3 + 4 ... + n - 1 --> O(n^2)"
   ]
  },
  {
   "cell_type": "markdown",
   "metadata": {},
   "source": [
    "```python\n",
    "def f(n) :\n",
    "    if n == 1 :\n",
    "        return 1\n",
    "    \n",
    "    return f(n - 1) * n\n",
    "```  \n",
    "함수가 n 부터 1 까지 재귀적으로 불려지면서, 함수 각각에 대해서는 O(1) 이므로, O(n) 이다."
   ]
  },
  {
   "cell_type": "markdown",
   "metadata": {},
   "source": [
    "```python\n",
    "def f(n) :\n",
    "    if n == 1 :\n",
    "        print(1)\n",
    "        return\n",
    "\n",
    "    for i in range(1, n + 1) :\n",
    "        print(i, end = \" \")\n",
    "    print()\n",
    "\n",
    "    f(n - 1)\n",
    "    return\n",
    "```\n",
    "f가 n 부터 1 까지 불려지면서, 각각의 n에 대해, n번 출력함 --> 1 + 2 + 3 + .. n --> O(n^2)"
   ]
  },
  {
   "cell_type": "markdown",
   "metadata": {},
   "source": [
    "`이분탐색` 은 시간복잡도가 얼마일까?  \n",
    "시간복잡도의 장점 중 하나는 완성된 코드가 없더라도 유추할 수 있다는 것이다.  \n",
    "예를 들어 연산자의 개수를 통해 비교하기 위해서는 개수를 셀 연산자가 있어야하므로, 코드가 필수적이다.  \n",
    "하지만, O() 방법은 의사코드(pseudo code)만으로도 가능하다는 장점이 있다.  \n",
    "  \n",
    "이분탐색의 경우, 매 경우마다 범위가 무조건 절반씩 줄어든다. 계속 줄어들다가 범위가 1이하가 되는 순간 끝나기 때문에, O(log n)이다. 그림을 통해서 본다면, 높이가 log n 이기 때문이라고도 할 수 있다."
   ]
  },
  {
   "cell_type": "markdown",
   "metadata": {},
   "source": [
    "쪼끔 어려울 수 있음, 그리고 c++ 임  \n",
    "```cpp\n",
    "int solve(vector<int> arr, int depth, int result) {\n",
    "    if(depth == arr.size()) {\n",
    "        int tmp = 0;\n",
    "        for(int i = 0; i < arr.size() - 1; i++) {\n",
    "            tmp += abs(arr[i] - arr[i + 1]);\n",
    "        }\n",
    "\n",
    "        if(result < tmp) result = tmp;\n",
    "        return result;\n",
    "    }\n",
    "\n",
    "    for(int i = depth; i < arr.size(); i++) {\n",
    "        swap(arr[i], arr[depth]);\n",
    "        result = solve(arr, depth + 1, result);\n",
    "        swap(arr[depth], arr[i]);\n",
    "    }\n",
    "\n",
    "    return result;\n",
    "}\n",
    "```\n",
    "참고로 c++ next_permutation 구현하고, 각각에 대해 바로 조건 확인하는 함수임(백준 10819)  \n",
    "  \n",
    "solve() --> a(f(l, d)) 라고 가정하고 하면,  \n",
    "a(f(l, l)) = l 이고,  \n",
    "a(f(l, d)) = (l - d)*a(f(l. d + 1))이므로,  \n",
    "a(f(l, d)) = l * (l - d)! 이다.(자세한건 필기)  \n"
   ]
  }
 ],
 "metadata": {
  "language_info": {
   "name": "python"
  },
  "orig_nbformat": 4
 },
 "nbformat": 4,
 "nbformat_minor": 2
}
