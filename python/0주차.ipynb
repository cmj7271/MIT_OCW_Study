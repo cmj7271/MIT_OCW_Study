{
 "cells": [
  {
   "cell_type": "code",
   "execution_count": 1,
   "metadata": {},
   "outputs": [
    {
     "name": "stdout",
     "output_type": "stream",
     "text": [
      "10\n"
     ]
    }
   ],
   "source": [
    "a = set()\n",
    "\n",
    "for _ in range(10) :\n",
    "    num = int(input())\n",
    "    a.add(num%42)\n",
    "\n",
    "print(len(a))"
   ]
  },
  {
   "cell_type": "code",
   "execution_count": 2,
   "metadata": {},
   "outputs": [
    {
     "name": "stdout",
     "output_type": "stream",
     "text": [
      "9 25\n"
     ]
    }
   ],
   "source": [
    "hour, min = map(int, input().split())\n",
    "\n",
    "if min < 45 :\n",
    "    min += 15\n",
    "    hour -= 1\n",
    "else :\n",
    "    min -= 45\n",
    "\n",
    "print(hour%24, min)"
   ]
  },
  {
   "cell_type": "code",
   "execution_count": 15,
   "metadata": {},
   "outputs": [
    {
     "name": "stdout",
     "output_type": "stream",
     "text": [
      "*********\n",
      " *******\n",
      "  *****\n",
      "   ***\n",
      "    *\n"
     ]
    }
   ],
   "source": [
    "n = int(input())\n",
    "\n",
    "for r in range(n) :\n",
    "    print(\" \" * r, end = \"\")\n",
    "    print(\"*\" * ((n - r)*2 - 1))"
   ]
  },
  {
   "cell_type": "code",
   "execution_count": 12,
   "metadata": {},
   "outputs": [
    {
     "name": "stdout",
     "output_type": "stream",
     "text": [
      "    *\n",
      "   ***\n",
      "  *****\n",
      " *******\n",
      "*********\n"
     ]
    }
   ],
   "source": [
    "n = int(input())\n",
    "\n",
    "for r in range(n - 1, -1, -1) :\n",
    "    print(\" \" * r, end = \"\")\n",
    "    print(\"*\" * ((n - r) * 2 - 1))"
   ]
  },
  {
   "cell_type": "code",
   "execution_count": 16,
   "metadata": {},
   "outputs": [
    {
     "name": "stdout",
     "output_type": "stream",
     "text": [
      "*********\n",
      " *******\n",
      "  *****\n",
      "   ***\n",
      "    *\n",
      "   ***\n",
      "  *****\n",
      " *******\n",
      "*********\n"
     ]
    }
   ],
   "source": [
    "n = int(input())\n",
    "\n",
    "for r in range(n - 1) :\n",
    "    print(\" \" * r, end = \"\")\n",
    "    print(\"*\" * ((n - r)*2 - 1))\n",
    "\n",
    "for r in range(n - 1, -1, -1) :\n",
    "    print(\" \" * r, end = \"\")\n",
    "    print(\"*\" * ((n - r) * 2 - 1))"
   ]
  },
  {
   "cell_type": "code",
   "execution_count": 22,
   "metadata": {},
   "outputs": [
    {
     "name": "stdout",
     "output_type": "stream",
     "text": [
      "0\n"
     ]
    }
   ],
   "source": [
    "row, col = map(int, input().split())\n",
    "lst = list()\n",
    "\n",
    "for r in range(row) :\n",
    "    a = list(input())\n",
    "    lst.append(a)\n",
    "\n",
    "row_check = 0\n",
    "col_check = 0\n",
    "\n",
    "for c in range(col) :\n",
    "    for r in range(row) :\n",
    "        if lst[r][c] == \"X\" :\n",
    "            col_check += 1\n",
    "            break\n",
    "\n",
    "for r in range(row) :\n",
    "    for c in range(col) :\n",
    "        if lst[r][c] == \"X\" :\n",
    "            row_check += 1\n",
    "            break\n",
    "\n",
    "row_check = row - row_check\n",
    "col_check = col - col_check\n",
    "\n",
    "print(max(row_check, col_check))"
   ]
  },
  {
   "cell_type": "code",
   "execution_count": 41,
   "metadata": {},
   "outputs": [
    {
     "name": "stdout",
     "output_type": "stream",
     "text": [
      "6\n",
      "10\n"
     ]
    }
   ],
   "source": [
    "time = int(input())\n",
    "\n",
    "for _ in range(time) :\n",
    "    k = int(input())\n",
    "    n = int(input())\n",
    "\n",
    "    lst = [[x for x in range(1, n + 1)]]\n",
    "    for _ in range(k + 1) :\n",
    "        temp_lst = [1] * n\n",
    "        lst.append(temp_lst)\n",
    "\n",
    "    for r in range(1, k + 1) :\n",
    "        for c in range(1, n) :\n",
    "            lst[r][c] = lst[r][c - 1] + lst[r - 1][c]\n",
    "\n",
    "    print(lst[k][n - 1])"
   ]
  },
  {
   "cell_type": "code",
   "execution_count": 26,
   "metadata": {},
   "outputs": [
    {
     "data": {
      "text/plain": [
       "[[1, 2], [1, 2, 3, 5]]"
      ]
     },
     "execution_count": 26,
     "metadata": {},
     "output_type": "execute_result"
    }
   ],
   "source": [
    "n = int(input())\n",
    "\n",
    "lst = [[x for x in range(1, n + 1)]]\n",
    "lst.append([1, 2, 3, 5])\n",
    "lst"
   ]
  },
  {
   "cell_type": "code",
   "execution_count": null,
   "metadata": {},
   "outputs": [],
   "source": []
  }
 ],
 "metadata": {
  "kernelspec": {
   "display_name": "Python 3",
   "language": "python",
   "name": "python3"
  },
  "language_info": {
   "codemirror_mode": {
    "name": "ipython",
    "version": 3
   },
   "file_extension": ".py",
   "mimetype": "text/x-python",
   "name": "python",
   "nbconvert_exporter": "python",
   "pygments_lexer": "ipython3",
   "version": "3.11.2"
  },
  "orig_nbformat": 4
 },
 "nbformat": 4,
 "nbformat_minor": 2
}
