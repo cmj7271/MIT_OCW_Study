{
 "cells": [
  {
   "attachments": {},
   "cell_type": "markdown",
   "metadata": {},
   "source": [
    "https://www.acmicpc.net/blog/view/109  \n",
    "이분탐색 글"
   ]
  },
  {
   "attachments": {},
   "cell_type": "markdown",
   "metadata": {},
   "source": [
    "2805 나무자르기"
   ]
  },
  {
   "cell_type": "code",
   "execution_count": 1,
   "metadata": {},
   "outputs": [
    {
     "name": "stdout",
     "output_type": "stream",
     "text": [
      "15\n"
     ]
    }
   ],
   "source": [
    "n, m = map(int, input().split())\n",
    "tree = list(map(int, input().split()))\n",
    "\n",
    "min_h = 0   \n",
    "max_h = max(tree)\n",
    "h = (min_h + max_h) // 2\n",
    "tree_getted = 0\n",
    "\n",
    "while max_h - min_h > 1 :\n",
    "    tree_getted = 0\n",
    "    for t in tree :\n",
    "        if t - h > 0 :\n",
    "            tree_getted += (t - h)\n",
    "    \n",
    "    if m <= tree_getted :\n",
    "        min_h = h\n",
    "    else : \n",
    "        max_h = h\n",
    "    h = (max_h + min_h) // 2\n",
    "\n",
    "# if tree_getted - m >= n :\n",
    "    # print(max_h)\n",
    "# else :\n",
    "    # print(min_h)\n",
    "\n",
    "print(min_h)"
   ]
  },
  {
   "attachments": {},
   "cell_type": "markdown",
   "metadata": {},
   "source": [
    "* 1654 랜선 자르기 ... 어쨌든 이분탐색이래"
   ]
  },
  {
   "cell_type": "code",
   "execution_count": 15,
   "metadata": {},
   "outputs": [
    {
     "name": "stdout",
     "output_type": "stream",
     "text": [
      "200\n"
     ]
    }
   ],
   "source": [
    "num, goal = map(int, input().split())\n",
    "lst = list()\n",
    "\n",
    "for _ in range(num) :\n",
    "    a = int(input())\n",
    "    lst.append(a)\n",
    "\n",
    "min_len = 1\n",
    "max_len = max(lst)\n",
    "\n",
    "if goal == 1 :   # 범위에는 T, F가 모두 존재해야 함\n",
    "    max_len += 1\n",
    "\n",
    "len = (min_len + max_len) // 2\n",
    "target = 0\n",
    "\n",
    "while max_len - min_len >= 0 :\n",
    "    target = 0\n",
    "    for l in lst :\n",
    "        target += (l // len)\n",
    "\n",
    "    if target >= goal :\n",
    "        min_len = len + 1\n",
    "    else :\n",
    "        max_len = len - 1\n",
    "    len = (min_len + max_len) // 2\n",
    "\n",
    "print(max_len)"
   ]
  },
  {
   "cell_type": "code",
   "execution_count": 2,
   "metadata": {},
   "outputs": [
    {
     "name": "stdout",
     "output_type": "stream",
     "text": [
      "204\n"
     ]
    }
   ],
   "source": [
    "num, goal = map(int, input().split())\n",
    "lst = list()\n",
    "\n",
    "for _ in range(num) :\n",
    "    a = int(input())\n",
    "    lst.append(a)\n",
    "\n",
    "min_len = 1\n",
    "max_len = max(lst)\n",
    "\n",
    "if goal == 1 :   # 범위에는 T, F가 모두 존재해야 함\n",
    "    max_len += 1\n",
    "\n",
    "len = (min_len + max_len) // 2\n",
    "target = 0\n",
    "\n",
    "while max_len - min_len > 1 :\n",
    "    target = 0\n",
    "    for l in lst :\n",
    "        target += (l // len)\n",
    "\n",
    "    if target >= goal :\n",
    "        min_len = len\n",
    "    else :\n",
    "        max_len = len\n",
    "    len = (min_len + max_len) // 2\n",
    "\n",
    "print(min_len)"
   ]
  },
  {
   "attachments": {},
   "cell_type": "markdown",
   "metadata": {},
   "source": [
    "두 개 차이가 뭐지...?"
   ]
  },
  {
   "cell_type": "code",
   "execution_count": 7,
   "metadata": {},
   "outputs": [
    {
     "ename": "KeyboardInterrupt",
     "evalue": "",
     "output_type": "error",
     "traceback": [
      "\u001b[1;31m---------------------------------------------------------------------------\u001b[0m",
      "\u001b[1;31mKeyboardInterrupt\u001b[0m                         Traceback (most recent call last)",
      "Cell \u001b[1;32mIn[7], line 67\u001b[0m\n\u001b[0;32m     64\u001b[0m         num \u001b[39m=\u001b[39m randint(\u001b[39m1\u001b[39m, \u001b[39m2\u001b[39m\u001b[39m*\u001b[39m\u001b[39m*\u001b[39m\u001b[39m31\u001b[39m \u001b[39m-\u001b[39m \u001b[39m1\u001b[39m)\n\u001b[0;32m     65\u001b[0m         lst\u001b[39m.\u001b[39mappend(num)\n\u001b[1;32m---> 67\u001b[0m     true_value \u001b[39m=\u001b[39m correct(n, lst)\n\u001b[0;32m     68\u001b[0m     value \u001b[39m=\u001b[39m test(n, lst)\n\u001b[0;32m     70\u001b[0m \u001b[39mprint\u001b[39m(k, n)\n",
      "Cell \u001b[1;32mIn[7], line 18\u001b[0m, in \u001b[0;36mcorrect\u001b[1;34m(n, lst)\u001b[0m\n\u001b[0;32m     16\u001b[0m target \u001b[39m=\u001b[39m \u001b[39m0\u001b[39m\n\u001b[0;32m     17\u001b[0m \u001b[39mfor\u001b[39;00m l \u001b[39min\u001b[39;00m lst :\n\u001b[1;32m---> 18\u001b[0m     target \u001b[39m+\u001b[39m\u001b[39m=\u001b[39m (l \u001b[39m/\u001b[39m\u001b[39m/\u001b[39m \u001b[39mlen\u001b[39m)\n\u001b[0;32m     20\u001b[0m \u001b[39mif\u001b[39;00m target \u001b[39m>\u001b[39m\u001b[39m=\u001b[39m goal :\n\u001b[0;32m     21\u001b[0m     min_len \u001b[39m=\u001b[39m \u001b[39mlen\u001b[39m \u001b[39m+\u001b[39m \u001b[39m1\u001b[39m\n",
      "\u001b[1;31mKeyboardInterrupt\u001b[0m: "
     ]
    }
   ],
   "source": [
    "from random import randint\n",
    "\n",
    "def correct(n, lst) :\n",
    "    goal = n\n",
    "\n",
    "    min_len = 1\n",
    "    max_len = max(lst)\n",
    "\n",
    "    if goal == 1 :   # 범위에는 T, F가 모두 존재해야 함\n",
    "        max_len += 1\n",
    "\n",
    "    len = (min_len + max_len) // 2\n",
    "    target = 0\n",
    "\n",
    "    while max_len - min_len >= 0 :\n",
    "        target = 0\n",
    "        for l in lst :\n",
    "            target += (l // len)\n",
    "\n",
    "        if target >= goal :\n",
    "            min_len = len + 1\n",
    "        else :\n",
    "            max_len = len - 1\n",
    "        len = (min_len + max_len) // 2\n",
    "\n",
    "    return max_len\n",
    "\n",
    "def test(n, lst) :\n",
    "    goal = n\n",
    "\n",
    "    min_len = 1\n",
    "    max_len = max(lst)\n",
    "\n",
    "    if goal == 1 :   # 범위에는 T, F가 모두 존재해야 함\n",
    "        max_len += 1\n",
    "\n",
    "    len = (min_len + max_len) // 2\n",
    "    target = 0\n",
    "\n",
    "    while max_len - min_len > 1 :\n",
    "        target = 0\n",
    "        for l in lst :\n",
    "            target += (l // len)\n",
    "\n",
    "        if target >= goal :\n",
    "            min_len = len\n",
    "        else :\n",
    "            max_len = len\n",
    "        len = (min_len + max_len) // 2\n",
    "\n",
    "    return min_len\n",
    "\n",
    "\n",
    "true_value = 0\n",
    "value = 0\n",
    "\n",
    "while true_value == value :\n",
    "\n",
    "    k = randint(1, 10000)\n",
    "    n = randint(k, 1000000)\n",
    "    lst = list()\n",
    "\n",
    "    for _ in range(k) :\n",
    "        num = randint(1, 2**31 - 1)\n",
    "        lst.append(num)\n",
    "\n",
    "    true_value = correct(n, lst)\n",
    "    value = test(n, lst)\n",
    "\n",
    "print(k, n)\n",
    "print(lst)\n",
    "print()\n",
    "print(true_value)\n",
    "print(value)"
   ]
  },
  {
   "attachments": {},
   "cell_type": "markdown",
   "metadata": {},
   "source": [
    "* 1920 수 찾기"
   ]
  },
  {
   "cell_type": "code",
   "execution_count": null,
   "metadata": {},
   "outputs": [],
   "source": [
    "input()\n",
    "lst1 = list(map(int, input().split()))\n",
    "lst1.sort()\n",
    "\n",
    "input()\n",
    "lst2 = list(map(int, input().split()))\n",
    "\n",
    "for num in lst2 :\n",
    "    if num >= lst1[0] and num <= lst1[-1] :\n",
    "        low = 0\n",
    "        high = len(lst1) - 1\n",
    "\n",
    "        while low <= high :\n",
    "            mid = (low + high) // 2\n",
    "\n",
    "            if lst1[mid] >= num :\n",
    "                high = mid - 1\n",
    "            else :\n",
    "                low = mid + 1\n",
    "\n",
    "        if lst1[low] == num :\n",
    "            print(1)\n",
    "        else :\n",
    "            print(0)\n",
    "    else :\n",
    "        print(0)"
   ]
  }
 ],
 "metadata": {
  "kernelspec": {
   "display_name": "Python 3",
   "language": "python",
   "name": "python3"
  },
  "language_info": {
   "codemirror_mode": {
    "name": "ipython",
    "version": 3
   },
   "file_extension": ".py",
   "mimetype": "text/x-python",
   "name": "python",
   "nbconvert_exporter": "python",
   "pygments_lexer": "ipython3",
   "version": "3.11.2"
  },
  "orig_nbformat": 4
 },
 "nbformat": 4,
 "nbformat_minor": 2
}
