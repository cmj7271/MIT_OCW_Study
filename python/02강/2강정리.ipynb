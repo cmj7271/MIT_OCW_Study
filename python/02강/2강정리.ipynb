{
 "cells": [
  {
   "cell_type": "code",
   "execution_count": 2,
   "metadata": {},
   "outputs": [
    {
     "name": "stdout",
     "output_type": "stream",
     "text": [
      "3.0\n",
      "2.2199999999999998\n",
      "4.33\n"
     ]
    }
   ],
   "source": [
    "def add(a : int, b : int) -> int :\n",
    "    return a + b\n",
    "\n",
    "def add(a : float, b : int) -> float :\n",
    "    return a + float(b)\n",
    "\n",
    "def add(a : int, b : float) -> float :\n",
    "    return float(a) + b\n",
    "\n",
    "int1 = 1\n",
    "int2 = 2\n",
    "float1 = 1.22\n",
    "float2 = 2.33\n",
    "\n",
    "print(add(int1, int2))  # 1 + 2\n",
    "print(add(float1, int1))  # 1.22 + 1\n",
    "print(add(int2, float2)) # 2 + 2.33\n",
    "\n",
    "\n",
    "# overload.cpp 온라인 컴파일러에서 확인 가능"
   ]
  },
  {
   "attachments": {},
   "cell_type": "markdown",
   "metadata": {},
   "source": [
    "* while vs for  \n",
    "  \n",
    "while 은 조건성 기준, 즉 몇번끝날지 불명확  \n",
    "for 는 횟수 기준, 몇번 끝날지 명확  \n",
    "  \n",
    "while --> for 는 안될 수 있음, 역은 가능"
   ]
  },
  {
   "attachments": {},
   "cell_type": "markdown",
   "metadata": {},
   "source": [
    "Pset1 다룰 때, 재사용성 언급하자  \n",
    "여기서 사실 `portion_down_payment`, `total_cost` 가 필요없다...  \n",
    "그러나, 미래에 다른 조건일 때 `변경 용이`, 즉 유연성, 사용성을 늘릴 수 있다.  \n",
    "예시로는 C언어에서 \n",
    "``` c\n",
    "# define MAX_ARRAY 100000\n",
    "\n",
    "int main(void) {\n",
    "    int arr[MAX_ARRAY] = {0};\n",
    "\n",
    "    for(int i = 0; i < MAX_ARRAY; i++) {\n",
    "        scanf(\"%d\", &a) //  a = int(input())\n",
    "    }\n",
    "} \n",
    "```\n",
    "  \n",
    "등으로   \n",
    "백준에서는 예제가 너무 많을 때 등 간단하게 테스트하기 위해서는 필요  \n",
    "또는 너무 많은 input 이 필요해서 귀찮을 때\n",
    "를 예시로 들 수 있음  \n"
   ]
  },
  {
   "attachments": {},
   "cell_type": "markdown",
   "metadata": {},
   "source": [
    "그리고 놀랍게도... `.01` 은 `float`에서 알아서 `0.01` 로 변환해주네...  \n",
    "C언어도 되네요.. 젠장..."
   ]
  },
  {
   "attachments": {},
   "cell_type": "markdown",
   "metadata": {},
   "source": []
  }
 ],
 "metadata": {
  "kernelspec": {
   "display_name": "Python 3",
   "language": "python",
   "name": "python3"
  },
  "language_info": {
   "codemirror_mode": {
    "name": "ipython",
    "version": 3
   },
   "file_extension": ".py",
   "mimetype": "text/x-python",
   "name": "python",
   "nbconvert_exporter": "python",
   "pygments_lexer": "ipython3",
   "version": "3.11.2"
  },
  "orig_nbformat": 4
 },
 "nbformat": 4,
 "nbformat_minor": 2
}
