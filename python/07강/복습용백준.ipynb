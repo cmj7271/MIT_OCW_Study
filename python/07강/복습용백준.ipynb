{
 "cells": [
  {
   "cell_type": "markdown",
   "metadata": {},
   "source": [
    "* 2606 바이러스"
   ]
  },
  {
   "cell_type": "code",
   "execution_count": 12,
   "metadata": {},
   "outputs": [
    {
     "name": "stdout",
     "output_type": "stream",
     "text": [
      "4\n"
     ]
    }
   ],
   "source": [
    "class graph :\n",
    "    def __init__(self, num) :\n",
    "        self.kind = num\n",
    "        self.arrow_list = [ set() for _ in range(num) ]\n",
    "\n",
    "    def arrow(self, a, b) :\n",
    "        self.arrow_list[a - 1].add(b - 1)\n",
    "        self.arrow_list[b - 1].add(a - 1)\n",
    "\n",
    "    def connected_with(self, a, elt_set) :\n",
    "        before_len = len(elt_set)\n",
    "        elt_set.add(a - 1)\n",
    "        for elt in self.arrow_list[a - 1] :\n",
    "            elt_set.add(elt)\n",
    "        \n",
    "        if before_len == len(elt_set) : return elt_set\n",
    "        \n",
    "        for elt in self.arrow_list[a - 1] :\n",
    "            elt_set = self.connected_with(elt + 1, elt_set)\n",
    "        return elt_set\n",
    "\n",
    "\n",
    "num = int(input())\n",
    "g = graph(num)\n",
    "time = int(input())\n",
    "\n",
    "for _ in range(time) :\n",
    "    a, b = map(int, input().split())\n",
    "    g.arrow(a, b)\n",
    "\n",
    "elt_sets = set()\n",
    "elt_sets = g.connected_with(1, elt_sets)\n",
    "\n",
    "\n",
    "print(len(elt_sets) - 1)"
   ]
  },
  {
   "cell_type": "markdown",
   "metadata": {},
   "source": [
    "* 2025 수열정렬"
   ]
  },
  {
   "cell_type": "code",
   "execution_count": 22,
   "metadata": {},
   "outputs": [
    {
     "name": "stdout",
     "output_type": "stream",
     "text": [
      "4 0 6 1 3 7 2 5 "
     ]
    }
   ],
   "source": [
    "length = int(input())\n",
    "a = list(map(int, input().split()))\n",
    "a_sorted = sorted(a)\n",
    "\n",
    "for idx in range(len(a)) :\n",
    "    cnt = a[:idx].count(a[idx])\n",
    "\n",
    "    print(a_sorted.index(a[idx]) + cnt, end = \" \")"
   ]
  },
  {
   "cell_type": "markdown",
   "metadata": {},
   "source": [
    "* 1463 1로 만들기"
   ]
  },
  {
   "cell_type": "code",
   "execution_count": 44,
   "metadata": {},
   "outputs": [
    {
     "name": "stdout",
     "output_type": "stream",
     "text": [
      "0\n"
     ]
    }
   ],
   "source": [
    "n = int(input())\n",
    "\n",
    "ans_lst = [0 for _ in range(n)] # n = 1 일 때...?\n",
    "# ans_lst[0] = 0\n",
    "# ans_lst[1] = 1\n",
    "\n",
    "for idx in range(1, n) :\n",
    "    num = idx + 1\n",
    "    \n",
    "    ans_lst[idx] = ans_lst[idx - 1] + 1\n",
    "\n",
    "    if num % 3 == 0 :\n",
    "        ans_lst[idx] = min(ans_lst[idx], ans_lst[num//3 - 1] + 1)\n",
    "    if num % 2 == 0 :\n",
    "        ans_lst[idx] = min(ans_lst[idx], ans_lst[num//2 - 1] + 1)\n",
    "\n",
    "print(ans_lst[n - 1])"
   ]
  },
  {
   "cell_type": "markdown",
   "metadata": {},
   "source": [
    "* 비슷한 예시 -> 계단 오르기  \n",
    "0층에서 시작, 한번에 1층 혹은 2층만 이동 가능  \n",
    "n 층에 도달할 수 있는 서로 다른 방법은 a(n) 이라 할 때,  \n",
    "a(n) 을 구한다면?  \n",
    "--> n층이라면 n - 1층에서 1층 이동, 혹은 n - 2 층에서 2층 이동의 방법이 있음  \n",
    "즉, a(n) = a(n - 1) + a(n - 2) 이다. 그럼 a(n - 1), a(n - 2) 는 어떻게 구하나?  \n",
    "a(n - 2), a(n - 3), a(n - 3), a(n - 4) 를 알면 됨....  \n",
    "**그렇다면 역순으로 0층에서부터 1층, 2층, 3층... 의 방법을 구해나가면 어떨까?**  \n",
    "  \n",
    "* 번외 : 만약 한번에 3층, 4층, 5층... 등이 된다면?  \n",
    "n - 3층에 대해서 1, 2 이동, 2, 1 이동, 3 이동이 있으니까 일단 a(n - 3) * 3 이 필요한가...?  \n",
    "1, 2 이동은 n - 2 층에서 2 이동과 겹치므로 안됨  \n",
    "2, 1 이동은 n - 1 층에서 1 이동과 겹치므로 안됨  \n",
    "즉, n - k 층에서 k 층으로 한번에 이동하는 것만 세면 됨  \n",
    "--> 한번에 k층 이동가능하면 a(n) = a(n - 1) + a(n - 2) + ... + a(n - k) 이다."
   ]
  },
  {
   "cell_type": "markdown",
   "metadata": {},
   "source": [
    "* 15894 수학은 체육과목입니다"
   ]
  },
  {
   "cell_type": "markdown",
   "metadata": {},
   "source": [
    "```cpp\n",
    "#include <iostream>\n",
    "using namespace std;\n",
    "\n",
    "int main(void) {\n",
    "    long long n = 0;   // long long 써야됨!!!!\n",
    "    cin >> n;\n",
    "    cout << 4*n;\n",
    "\n",
    "    return 0;\n",
    "}\n",
    "```"
   ]
  },
  {
   "cell_type": "markdown",
   "metadata": {},
   "source": [
    "* 10886번 0 = not cute / 1 = cute"
   ]
  },
  {
   "cell_type": "markdown",
   "metadata": {},
   "source": [
    "```cpp\n",
    "#include <iostream>\n",
    "using namespace std;\n",
    "\n",
    "int main(void) {\n",
    "    int time = 0;\n",
    "    cin >> time;\n",
    "\n",
    "    int n = 0;\n",
    "    int sum = 0;\n",
    "    for(int i = 0; i < time; i++) {\n",
    "        cin >> n;\n",
    "        if(n == 0) n = -1;\n",
    "        sum += n;\n",
    "    }\n",
    "\n",
    "    if(sum > 0) cout << \"Junhee is cute!\";\n",
    "    else cout << \"Junhee is not cute!\";\n",
    "\n",
    "    return 0;\n",
    "}\n",
    "\n",
    "```"
   ]
  },
  {
   "cell_type": "markdown",
   "metadata": {},
   "source": [
    "* 10818번 최소, 최대"
   ]
  },
  {
   "cell_type": "markdown",
   "metadata": {},
   "source": [
    "```cpp\n",
    "#include <iostream>\n",
    "using namespace std;\n",
    "\n",
    "int main(void) {\n",
    "    int n = 0;\n",
    "    cin >> n;\n",
    "    int max, min = 0;\n",
    "    cin >> max;\n",
    "    min = max;\n",
    "\n",
    "    int num = 0;\n",
    "    for(int i = 0; i < n - 1; i++) {\n",
    "        cin >> num;\n",
    "        if(max < num) max = num;\n",
    "        if(min > num) min = num;\n",
    "    }\n",
    "    \n",
    "    cout << min << \" \" << max;\n",
    "\n",
    "    return 0;\n",
    "}\n",
    "```"
   ]
  },
  {
   "cell_type": "markdown",
   "metadata": {},
   "source": [
    "* 10250번 ACM 호텔"
   ]
  },
  {
   "cell_type": "markdown",
   "metadata": {},
   "source": [
    "```cpp\n",
    "#include <iostream>\n",
    "using namespace std;\n",
    "\n",
    "int main(void) {\n",
    "    int time = 0;\n",
    "    cin >> time;\n",
    "\n",
    "    int h, w, n = 0;\n",
    "    int y, x = 0;\n",
    "\n",
    "    for(int i = 0; i < time; i++) {\n",
    "        x = 0, y = 0;\n",
    "        cin >> h >> w >> n;\n",
    "        y = n % h;\n",
    "        if(y == 0) {\n",
    "            y = h;\n",
    "            x--;\n",
    "        }\n",
    "        x += n / h + 1;\n",
    "\n",
    "        if(x < 10) cout << y << 0 << x << endl;\n",
    "        else cout << y << x << endl;\n",
    "    }\n",
    "    return 0;\n",
    "}\n",
    "```"
   ]
  },
  {
   "cell_type": "markdown",
   "metadata": {},
   "source": [
    "------ Pset3 풀면서 체크한 흔적임 무시 --------"
   ]
  },
  {
   "cell_type": "code",
   "execution_count": 4,
   "metadata": {},
   "outputs": [
    {
     "name": "stdout",
     "output_type": "stream",
     "text": [
      "{'a': 0, 'q': 0, 'l': 1, 'm': 1, 'u': 0, 'i': 0}\n"
     ]
    }
   ],
   "source": [
    "def update_hand(hand, word):\n",
    "    # pass  # TO DO... Remove this line when you implement this function\n",
    "    new_hand = hand.copy()\n",
    "    for w in word :\n",
    "        if w in new_hand and new_hand[w] > 0 :\n",
    "            new_hand[w] -= 1\n",
    "\n",
    "    return new_hand\n",
    "\n",
    "hand = {\"a\" : 1, \"q\" : 1, \"l\" : 2, \"m\" : 1, \"u\" : 1, \"i\" : 1}\n",
    "\n",
    "print(update_hand(hand, \"quail\"))"
   ]
  },
  {
   "cell_type": "code",
   "execution_count": 7,
   "metadata": {},
   "outputs": [
    {
     "name": "stdout",
     "output_type": "stream",
     "text": [
      "['appae', 'appee', 'appie', 'appoe', 'appue']\n"
     ]
    }
   ],
   "source": [
    "word = \"app*e\"\n",
    "word_list = list()\n",
    "for v in \"aeiou\" :\n",
    "    word_list.append(word.replace(\"*\", v))\n",
    "\n",
    "print(word_list)"
   ]
  },
  {
   "cell_type": "code",
   "execution_count": 8,
   "metadata": {},
   "outputs": [
    {
     "name": "stdout",
     "output_type": "stream",
     "text": [
      "1\n",
      "3\n",
      "5\n",
      "7\n",
      "9\n"
     ]
    }
   ],
   "source": [
    "for i in range(10) :\n",
    "    if i % 2 == 0 : continue\n",
    "\n",
    "    print(i)"
   ]
  },
  {
   "cell_type": "code",
   "execution_count": 4,
   "metadata": {},
   "outputs": [
    {
     "name": "stdout",
     "output_type": "stream",
     "text": [
      "a p p a e \n",
      "a p p e e \n",
      "a p p i e \n",
      "a p p o e \n",
      "a p p u e \n"
     ]
    }
   ],
   "source": [
    "word = \"App*e\"\n",
    "\n",
    "word_low = word.lower()\n",
    "word_low_list = [word_low]\n",
    "if \"*\" in word_low :\n",
    "    word_low_list.pop(0)\n",
    "    for v in \"aeiou\" :\n",
    "        word_low_list.append(word_low.replace(\"*\", v))\n",
    "\n",
    "for word_low in word_low_list :\n",
    "    for w in word_low :\n",
    "        print(w, end = \" \")\n",
    "    print()"
   ]
  },
  {
   "cell_type": "code",
   "execution_count": 13,
   "metadata": {},
   "outputs": [
    {
     "name": "stdout",
     "output_type": "stream",
     "text": [
      "{'r': 1, 'a': 3, 'p': 2, 't': 1, 'u': 2, 'h': -1, 'o': -1, 'n': -1, 'e': -1, 'y': -1}\n",
      "1\n",
      "3\n",
      "2\n",
      "1\n",
      "2\n",
      "-1\n",
      "-1\n",
      "-1\n",
      "-1\n",
      "-1\n"
     ]
    },
    {
     "data": {
      "text/plain": [
       "True"
      ]
     },
     "execution_count": 13,
     "metadata": {},
     "output_type": "execute_result"
    }
   ],
   "source": [
    "from copy import deepcopy\n",
    "\n",
    "VOWELS = \"aeiou\"\n",
    "\n",
    "def is_valid_word(word, hand, word_list):\n",
    "    \"\"\"\n",
    "    Returns True if word is in the word_list and is entirely\n",
    "    composed of letters in the hand. Otherwise, returns False.\n",
    "    Does not mutate hand or word_list.\n",
    "   \n",
    "    word: string\n",
    "    hand: dictionary (string -> int)\n",
    "    word_list: list of lowercase strings\n",
    "    returns: boolean\n",
    "    \"\"\"\n",
    "\n",
    "    # pass  # TO DO... Remove this line when you implement this function\n",
    "    word_low = word.lower()\n",
    "    word_low_list = [word_low]\n",
    "    if \"*\" in word_low :\n",
    "        word_low_list.pop(0)\n",
    "        for v in VOWELS :\n",
    "            word_low_list.append(word_low.replace(\"*\", v))\n",
    "    \n",
    "    cnt = 0\n",
    "    for w_low in word_low_list :\n",
    "\n",
    "        hand_copy = deepcopy(hand)\n",
    "        # word_list에 있나?\n",
    "        if w_low not in word_list : \n",
    "            continue\n",
    "\n",
    "        # hand_copy에 대해서 실제로 제거해보기\n",
    "        for w in w_low :\n",
    "            hand_copy[w] = hand_copy.get(w, 0) - 1\n",
    "\n",
    "        print(hand_copy)\n",
    "        # 없는 거 사용했는지 검사\n",
    "        for value in hand_copy.values() :\n",
    "            print(value)\n",
    "            if value < 0 : \n",
    "                continue\n",
    "\n",
    "        cnt += 1\n",
    "        break\n",
    "    \n",
    "    if cnt > 0 : return True\n",
    "    else : return False\n",
    "\n",
    "word = \"honey\"\n",
    "# hand = {'r': 1, 'a': 3, 'p': 2, 't': 1, 'u': 2} \n",
    "hand = {'r': 1, 'a': 3, 'p': 2, 't': 1, 'u': 2} \n",
    "word_list = [\"Rapture\", \"honey\", \"even\"]\n",
    "\n",
    "\n",
    "is_valid_word(word, hand, word_list)"
   ]
  },
  {
   "cell_type": "code",
   "execution_count": null,
   "metadata": {},
   "outputs": [],
   "source": []
  }
 ],
 "metadata": {
  "kernelspec": {
   "display_name": "Python 3",
   "language": "python",
   "name": "python3"
  },
  "language_info": {
   "codemirror_mode": {
    "name": "ipython",
    "version": 3
   },
   "file_extension": ".py",
   "mimetype": "text/x-python",
   "name": "python",
   "nbconvert_exporter": "python",
   "pygments_lexer": "ipython3",
   "version": "3.11.2"
  },
  "orig_nbformat": 4
 },
 "nbformat": 4,
 "nbformat_minor": 2
}
