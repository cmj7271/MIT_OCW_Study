{
 "cells": [
  {
   "attachments": {},
   "cell_type": "markdown",
   "metadata": {},
   "source": [
    "5.1 ~ 5.3.1, 5.4 ~ 5.5 (113p. ~)"
   ]
  },
  {
   "attachments": {},
   "cell_type": "markdown",
   "metadata": {},
   "source": [
    "* `range` 는 `iterable` 한 `object`  \n",
    "저장은 `start`, `stop`, `step` 만이 저장됨"
   ]
  },
  {
   "cell_type": "code",
   "execution_count": 9,
   "metadata": {},
   "outputs": [
    {
     "name": "stdout",
     "output_type": "stream",
     "text": [
      "range(1, 10, 2)\n",
      "<class 'range'>\n",
      "\n",
      "True\n",
      "\n",
      "7\n"
     ]
    }
   ],
   "source": [
    "i = range(1, 10, 2) # 1, 3, 5, 7, 9\n",
    "print(i)\n",
    "print(type(i))\n",
    "print()\n",
    "\n",
    "j = range(1, 11, 2)\n",
    "print(i == j) # 1, 3, 5, 7, 9\n",
    "\n",
    "print()\n",
    "print(i[2:4][1])   # 5, 7"
   ]
  },
  {
   "attachments": {},
   "cell_type": "markdown",
   "metadata": {},
   "source": [
    "* `mutable` vs `immutable`  \n",
    "`mutable` 하기 때문에 side effect(단점) 이 생기기도 한다. --> `aliasing` (= 서로 다른 신호를 구분해내지 못함)  \n",
    "`pointer` 로 표현하는지, 새로 만들어내는지에 따라 다른 효과가 생김.  \n",
    "`immutable` 할 때는 새로 만들어내기만 하기 때문에 나타나지 않는다."
   ]
  },
  {
   "cell_type": "code",
   "execution_count": 12,
   "metadata": {},
   "outputs": [
    {
     "name": "stdout",
     "output_type": "stream",
     "text": [
      "lst1 = [[0, 1], [0, 1]] but, lst2 = [[0], [1]]\n"
     ]
    }
   ],
   "source": [
    "lst1 = [[]] * 2\n",
    "lst2 = [[], []]\n",
    "\n",
    "for i in range(len(lst1)) :\n",
    "    lst1[i].append(i)\n",
    "    lst2[i].append(i)\n",
    "\n",
    "print(\"lst1 =\", lst1, \"but, lst2 =\", lst2)    # lst1 은 처음 빈 배열이 같은 것을 가르키는 포인터임"
   ]
  },
  {
   "cell_type": "code",
   "execution_count": 17,
   "metadata": {},
   "outputs": [
    {
     "name": "stdout",
     "output_type": "stream",
     "text": [
      "value test\n",
      "True\n",
      "\n",
      "memory test\n",
      "False\n",
      "\n",
      "add on alpha\n",
      "[['a', 'b', 'c'], [1, 2, 3]]\n",
      "[['a', 'b'], [1, 2, 3]]\n"
     ]
    }
   ],
   "source": [
    "alpha = [\"a\", \"b\"]\n",
    "num = [1, 2, 3]\n",
    "\n",
    "lst1 = [alpha, num]\n",
    "lst2 = [[\"a\", \"b\"], [1, 2, 3]]\n",
    "\n",
    "print(\"value test\")\n",
    "print(lst1 == lst2)\n",
    "print()\n",
    "\n",
    "print(\"memory test\")\n",
    "print(id(lst1) == id(lst2))\n",
    "\n",
    "print()\n",
    "print(\"add on alpha\")\n",
    "alpha.append(\"c\")\n",
    "\n",
    "print(lst1)\n",
    "print(lst2)"
   ]
  },
  {
   "cell_type": "code",
   "execution_count": 5,
   "metadata": {},
   "outputs": [
    {
     "name": "stdout",
     "output_type": "stream",
     "text": [
      "[3]\n",
      "[3, 4]\n",
      "[1, 2, 3, 100]\n",
      "[3, 4, 5]\n"
     ]
    }
   ],
   "source": [
    "def append_val(val, list_1 = []) :\n",
    "    list_1.append(val)\n",
    "    print(list_1)\n",
    "\n",
    "append_val(3)\n",
    "append_val(4)\n",
    "\n",
    "# print(list_1)\n",
    "\n",
    "append_val(100, [1, 2, 3])\n",
    "\n",
    "append_val(5)"
   ]
  },
  {
   "attachments": {},
   "cell_type": "markdown",
   "metadata": {},
   "source": [
    "처음 실행시 함수 매개변수 deafult 값이 저장된다 --> 빈 리스트 [] 가 생기고, list_1 은 그것을 가르키는 **포인터**  \n",
    "함수 호출시, 함수는 정의부분의 매개변수에 **할당**한다. --> val = 3 이며, default 값으로 빈 리스트(list_1이 가르키는) 를 가르키는 **포인터**가 생긴다.  \n",
    "그 포인터(방금 생긴 2번째 포인터)를 통해 빈 리스트에 val 값을 추가한다. --> 두개가 가르키는 빈 리스트에 3 이 추가됨  \n",
    "함수가 끝나면 함수내에서 생긴 변수는 사라진다. --> list_1 을 가르키는 **2**번째 **포인터**가 사라진다. --> 변한 리스트는 유지됨  \n",
    "이 때문에 print(list_1) 에서 리스트에 접근가능한 **포인터**는 사라졌기 때문에(함수가 끝나면서 지역변수는 삭제됨) 정의되지 않은 상태이다.  \n",
    "**주의** : 위 내용은 내가 python tutor 보고, 나름의 추측이니 믿거나 말거나"
   ]
  },
  {
   "cell_type": "code",
   "execution_count": 3,
   "metadata": {},
   "outputs": [
    {
     "name": "stdout",
     "output_type": "stream",
     "text": [
      "lst1 = [[0, 1], [0, 1]]\n",
      "lst2 = [[0], [1]]\n"
     ]
    }
   ],
   "source": [
    "# 결과 예측하기\n",
    "\n",
    "lst1 = [[]] * 2\n",
    "lst2 = [[], []]\n",
    "\n",
    "for i in range(len(lst1)) :\n",
    "    lst1[i].append(i)\n",
    "    lst2[i].append(i)\n",
    "\n",
    "print(\"lst1 =\", lst1)\n",
    "print(\"lst2 =\", lst2)"
   ]
  },
  {
   "cell_type": "code",
   "execution_count": 4,
   "metadata": {},
   "outputs": [
    {
     "name": "stdout",
     "output_type": "stream",
     "text": [
      "lst1 = [2, 3, 4]\n"
     ]
    }
   ],
   "source": [
    "# 124p.\n",
    "\n",
    "def remove_dups(lst1, lst2) :\n",
    "    for num1 in lst1 :\n",
    "        if num1 in lst2 :\n",
    "            lst1.remove(num1)\n",
    "\n",
    "lst1 = [1, 2, 3, 4]\n",
    "lst2 = [1, 2, 5, 6]\n",
    "\n",
    "remove_dups(lst1, lst2)\n",
    "print(\"lst1 =\", lst1)    # 기댓값 : [3, 4]"
   ]
  },
  {
   "attachments": {},
   "cell_type": "markdown",
   "metadata": {},
   "source": [
    "for 문 내부의 counter 에 의해 도는데, 삭제된채로 index가 늘어나기 때문에  \n",
    "1이 삭제된 이후 index인 1을 돌 때는, index 1 에 해당하는 3에 대해 검사하게 된다. 즉, 숫자 2에 대해서는 검사가 생략된다."
   ]
  },
  {
   "attachments": {},
   "cell_type": "markdown",
   "metadata": {},
   "source": [
    "리스트 2개를 받고, 첫번째 리스트를 밑으로, 두번째 리스트를 지수로 해서 그 합을 구하는 함수 구현(130p.)"
   ]
  },
  {
   "cell_type": "code",
   "execution_count": 18,
   "metadata": {},
   "outputs": [
    {
     "name": "stdout",
     "output_type": "stream",
     "text": [
      "89\n"
     ]
    }
   ],
   "source": [
    "def f(lst1, lst2) :\n",
    "    hap = 0\n",
    "    for num in map(lambda x, y : x**y, lst1, lst2) :\n",
    "        hap += num\n",
    "\n",
    "    return hap\n",
    "\n",
    "lst1 = [2, 3]\n",
    "lst2 = [3, 4]\n",
    "print(f(lst1, lst2))"
   ]
  },
  {
   "cell_type": "code",
   "execution_count": 6,
   "metadata": {},
   "outputs": [
    {
     "name": "stdout",
     "output_type": "stream",
     "text": [
      "89\n"
     ]
    }
   ],
   "source": [
    "def f(lst1, lst2) :\n",
    "    hap = 0\n",
    "    for num1, num2 in lst1, lst2 :\n",
    "        hap += (num1**num2)\n",
    "\n",
    "    return hap\n",
    "\n",
    "lst1 = [2, 3]\n",
    "lst2 = [3, 4]\n",
    "\n",
    "print(f(lst1, lst2))"
   ]
  },
  {
   "cell_type": "code",
   "execution_count": 7,
   "metadata": {},
   "outputs": [
    {
     "name": "stdout",
     "output_type": "stream",
     "text": [
      "89\n"
     ]
    }
   ],
   "source": [
    "def f(lst1, lst2) :\n",
    "    hap = 0\n",
    "    for i in range(len(lst1)) :\n",
    "        hap += (lst1[i]**lst2[i])\n",
    "\n",
    "    return hap\n",
    "\n",
    "lst1 = [2, 3]\n",
    "lst2 = [3, 4]\n",
    "\n",
    "print(f(lst1, lst2))"
   ]
  },
  {
   "cell_type": "code",
   "execution_count": null,
   "metadata": {},
   "outputs": [],
   "source": []
  }
 ],
 "metadata": {
  "kernelspec": {
   "display_name": "Python 3",
   "language": "python",
   "name": "python3"
  },
  "language_info": {
   "codemirror_mode": {
    "name": "ipython",
    "version": 3
   },
   "file_extension": ".py",
   "mimetype": "text/x-python",
   "name": "python",
   "nbconvert_exporter": "python",
   "pygments_lexer": "ipython3",
   "version": "3.11.2"
  },
  "orig_nbformat": 4
 },
 "nbformat": 4,
 "nbformat_minor": 2
}
