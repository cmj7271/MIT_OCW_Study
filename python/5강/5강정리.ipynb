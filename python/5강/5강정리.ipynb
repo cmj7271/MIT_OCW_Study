{
 "cells": [
  {
   "attachments": {},
   "cell_type": "markdown",
   "metadata": {},
   "source": [
    "* `tuple`  \n",
    "immutable, iterable  \n",
    "**주의** : 1개짜리는 (\"\",) 로 표현, (\"\") <-- 아님 주의  \n",
    "swap 에 유리하다는 장점이 있음 ex) (x, y) = (y, x)  "
   ]
  },
  {
   "attachments": {},
   "cell_type": "markdown",
   "metadata": {},
   "source": [
    "* `list`  \n",
    "mutable, iterable  \n",
    ".extend(), .remove(), .append()...  \n",
    "    \n",
    "번외 : `string`의 `method` :  \n",
    "`str.split(\" 구분자(default = \" \") \")`, `\"구분자(default = \"\").join(연결할 무언가)\"`"
   ]
  },
  {
   "cell_type": "code",
   "execution_count": 1,
   "metadata": {},
   "outputs": [
    {
     "name": "stdout",
     "output_type": "stream",
     "text": [
      "(1, 2, 3) 2022368817536\n",
      "(1, 2, 3, 4, 5) 2022368782160\n",
      "\n",
      "before : 2022368817536 \n",
      "after : 2022368782160\n",
      "before and after id = False\n",
      "\n",
      "\n",
      "[1, 2, 3] 2022368820480\n",
      "[1, 2, 3, 4, 5] 2022368820480\n",
      "\n",
      "before : 2022368820480 \n",
      "after : 2022368820480\n",
      "before and after id = True\n"
     ]
    }
   ],
   "source": [
    "# immutable 한 tuple vs mutable 한 list\n",
    "\n",
    "\n",
    "a = (1, 2, 3)\n",
    "b = (4, 5)\n",
    "\n",
    "print(a, id(a))\n",
    "a_id = id(a)\n",
    "\n",
    "a = a + b\n",
    "\n",
    "new_a_id = id(a)\n",
    "print(a, id(a))\n",
    "print()\n",
    "\n",
    "print(\"before :\", a_id, \"\\nafter :\", new_a_id)\n",
    "print(\"before and after id =\", a_id == new_a_id)\n",
    "print(\"\\n\")\n",
    "\n",
    "lst1 = [1, 2, 3]\n",
    "lst2 = [4, 5]\n",
    "\n",
    "print(lst1, id(lst1))\n",
    "lst1_id = id(lst1)\n",
    "\n",
    "lst1.extend(lst2)\n",
    "# lst1 = lst1 + lst2  --> # tuple 과 마찬가지로 새로 생성함\n",
    "new_lst1_id = id(lst1)\n",
    "print(lst1, id(lst1))\n",
    "\n",
    "print()\n",
    "print(\"before :\", lst1_id, \"\\nafter :\", new_lst1_id)\n",
    "print(\"before and after id =\", lst1_id == new_lst1_id)"
   ]
  },
  {
   "cell_type": "code",
   "execution_count": null,
   "metadata": {},
   "outputs": [],
   "source": []
  }
 ],
 "metadata": {
  "kernelspec": {
   "display_name": "Python 3",
   "language": "python",
   "name": "python3"
  },
  "language_info": {
   "codemirror_mode": {
    "name": "ipython",
    "version": 3
   },
   "file_extension": ".py",
   "mimetype": "text/x-python",
   "name": "python",
   "nbconvert_exporter": "python",
   "pygments_lexer": "ipython3",
   "version": "3.11.2"
  },
  "orig_nbformat": 4
 },
 "nbformat": 4,
 "nbformat_minor": 2
}
