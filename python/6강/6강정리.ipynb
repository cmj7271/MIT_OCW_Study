{
 "cells": [
  {
   "cell_type": "markdown",
   "metadata": {},
   "source": [
    "* 재귀(recursion)"
   ]
  },
  {
   "cell_type": "code",
   "execution_count": 5,
   "metadata": {},
   "outputs": [
    {
     "name": "stdout",
     "output_type": "stream",
     "text": [
      "called f(5)\n",
      "called f(4)\n",
      "called f(3)\n",
      "called f(2)\n",
      "called f(1)\t!! this is base case !!\n",
      "\n",
      "end of f(1)\n",
      "end of f(2)\n",
      "end of f(3)\n",
      "end of f(4)\n",
      "end of f(5)\n"
     ]
    }
   ],
   "source": [
    "def f(n) :\n",
    "    if n == 1 :\n",
    "        print(f\"called f({n})\", end = '\\t')\n",
    "        print(\"!! this is base case !!\\n\")\n",
    "        print(f\"end of f({n})\")\n",
    "        return\n",
    "\n",
    "    print(f\"called f({n})\")\n",
    "    f(n - 1)\n",
    "    print(f\"end of f({n})\")\n",
    "    return\n",
    "\n",
    "f(5)"
   ]
  },
  {
   "cell_type": "markdown",
   "metadata": {},
   "source": [
    "6강 ppt 11p. 참조  \n",
    "f(5)가 call 되고 그 안에서 f(4)가 call 되고 그 안에서...  \n",
    "`base case` 인 f(1)이 call 되고 끝나면서, f(2)가 끝나고, f(3)이 끝나고...  \n",
    "즉, 처음 call 된 것이 가장 늦게 끝난다."
   ]
  },
  {
   "cell_type": "markdown",
   "metadata": {},
   "source": [
    "재귀는 분활정복(divide-and-conquer)의 일종  \n",
    "복잡한 또는 큰 문제를 작고 간단한 문제로 쪼갠다  \n",
    "**주의**  : 작은 문제로 분할하는 것이 `base case` 로 넘어가는 것이 보장되는가?\n",
    "\n",
    "전의 상태를 모두 안다고 가정할 때, 다음 상태로 어떻게 넘어가는가?  "
   ]
  },
  {
   "cell_type": "markdown",
   "metadata": {},
   "source": [
    "* 피보나치 수열 a(n) = a(n - 1) + a(n - 2)"
   ]
  },
  {
   "cell_type": "code",
   "execution_count": 14,
   "metadata": {},
   "outputs": [
    {
     "name": "stdout",
     "output_type": "stream",
     "text": [
      "1\n",
      "1\n",
      "2\n",
      "3\n",
      "5\n",
      "8\n",
      "13\n",
      "21\n",
      "34\n",
      "55\n"
     ]
    }
   ],
   "source": [
    "def fibo(n) :  # n 은 0 이상의 정수\n",
    "    if n == 1 :\n",
    "        return 1\n",
    "    elif n == 0 :\n",
    "        return 0\n",
    "    \n",
    "    return fibo(n - 1) + fibo(n - 2)\n",
    "\n",
    "\n",
    "for i in range(1, 11) :\n",
    "    print(fibo(i))"
   ]
  },
  {
   "cell_type": "markdown",
   "metadata": {},
   "source": [
    "* 하노이 탑(코드는 생략)  \n",
    "a(n)이 n개의 링에 대한 이동횟수라고 할 때,  \n",
    "a(n + 1) 은 2*a(n) + 1 이다.  \n",
    "n개에 대해 2번째로 옮기고 --> a(n) 번  \n",
    "맨 아래 n + 1 번째 거를 3번째로 옮김 --> 1번  \n",
    "2번째에 있는 n개를 3번째에 옮김 --> a(n)번"
   ]
  },
  {
   "cell_type": "markdown",
   "metadata": {},
   "source": [
    "* 팰린드롬(코드 생략)  \n",
    "n 길이의 문자열일 때,  \n",
    "  \n",
    "처음과 마지막이 같고,  \n",
    "앞뒤를 뺀 문자열이 `팰린드롬일때`, --> 재귀(팰린드롬인지 확인하는 중간에 팰린드롬인가를 확인함)  \n",
    "  \n",
    "이 문자열은 `팰린드롬이다`  \n",
    "  \n",
    "base case 는 문자열길이가 1일 때"
   ]
  },
  {
   "cell_type": "markdown",
   "metadata": {},
   "source": [
    "* 최대공약수 구하기(유클리드 호제법)  \n",
    "유클리드 호제법 :  \n",
    "m % n = r 일 때,  \n",
    "GCD(m, n) = GCD(n, r)"
   ]
  },
  {
   "cell_type": "code",
   "execution_count": 18,
   "metadata": {},
   "outputs": [
    {
     "name": "stdout",
     "output_type": "stream",
     "text": [
      "4\n",
      "1\n"
     ]
    }
   ],
   "source": [
    "def GCD(m, n) :\n",
    "    if n == 0 :\n",
    "        return m\n",
    "    \n",
    "    return GCD(n, m % n)\n",
    "\n",
    "print(GCD(100, 128)) # 바로 다음이 GCD(128, 100) 으로 바뀜\n",
    "print(GCD(17, 3))\n"
   ]
  },
  {
   "cell_type": "markdown",
   "metadata": {},
   "source": [
    "* 하지만 재귀만 쓰기에는 비효율적이다."
   ]
  },
  {
   "cell_type": "code",
   "execution_count": 25,
   "metadata": {},
   "outputs": [
    {
     "name": "stdout",
     "output_type": "stream",
     "text": [
      "1 1\n",
      "1 3\n",
      "2 5\n",
      "3 9\n",
      "5 15\n",
      "8 25\n",
      "13 41\n",
      "21 67\n",
      "34 109\n",
      "55 177\n",
      "\n",
      "64th fibo : 9227465 cnt : 29860703\n"
     ]
    }
   ],
   "source": [
    "def fibo(n) :\n",
    "    global cnt\n",
    "    cnt += 1\n",
    "    if n == 0 :\n",
    "        return 0\n",
    "    elif n == 1 :\n",
    "        return 1\n",
    "    \n",
    "    return fibo(n - 1) + fibo(n - 2)\n",
    "\n",
    "for i in range(1, 11) :\n",
    "    cnt = 0\n",
    "    print(fibo(i), cnt)\n",
    "\n",
    "print()\n",
    "cnt = 0\n",
    "print(\"64th fibo :\", fibo(35), \"cnt :\", cnt)\n",
    "\n",
    "# 모든 fibo(n) 에 대하여 fibo(1) 까지 내려가야 한다."
   ]
  },
  {
   "cell_type": "markdown",
   "metadata": {},
   "source": [
    "* 번외 시간복잡도  \n",
    "위 코드의 피보나치 수열의 시간복잡도는 어떻까?  \n",
    "만약 fibo(n) 의 시간복잡도를 a(n) 이라 할 때,  \n",
    "a(n) = a(n - 1) + a(n - 2) 이다. --> return 에서 둘을 계산해야하기 때문  \n",
    "이는 피보나치의 점화식이기 때문에 a(n) 은 피보나치 수열의 일반항과 같다.  "
   ]
  },
  {
   "cell_type": "markdown",
   "metadata": {},
   "source": [
    "* 번외의 번외(피보나치 일반항)  \n",
    "![fibonacci](./fibonacci.jpg)"
   ]
  },
  {
   "cell_type": "markdown",
   "metadata": {},
   "source": [
    "번외의 번외의 번외 : 생성함수  \n",
    "{1, 2, 3, 4, ... 2000} 인 집합의 부분집합들 중에 합이 5로 나누어떨어지는 집합의 개수는? (올림피우드 문제임)"
   ]
  },
  {
   "cell_type": "markdown",
   "metadata": {},
   "source": [
    "* 메모리제이션  \n",
    "반복되는 부분은 저장해서 필요할 때, 불러오는 것으로 시간을 줄여보자"
   ]
  },
  {
   "cell_type": "code",
   "execution_count": 1,
   "metadata": {},
   "outputs": [
    {
     "name": "stdout",
     "output_type": "stream",
     "text": [
      "218922995834555169026\n"
     ]
    }
   ],
   "source": [
    "def fibo(n, arr) :\n",
    "    if arr[n] != 0 :\n",
    "        return arr[n]\n",
    "    \n",
    "    if n == 0 :\n",
    "        return 0\n",
    "    elif n == 1 :\n",
    "        return 1\n",
    "\n",
    "    if arr[n - 1] != 0 and arr[n - 2] != 0 :\n",
    "        arr[n] = arr[n - 1] + arr[n - 2]\n",
    "\n",
    "    elif arr[n - 1] != 0 :\n",
    "        arr[n] = arr[n - 1] + fibo(n - 2, arr)\n",
    "\n",
    "    elif arr[n - 2] != 0 :\n",
    "        arr[n] = fibo(n - 1, arr) + arr[n - 2]\n",
    "    else :\n",
    "        arr[n] = fibo(n - 1, arr) + fibo(n - 2, arr)\n",
    "\n",
    "    return arr[n]\n",
    "\n",
    "\n",
    "ans_arr = [0 for _ in range(100)]\n",
    "\n",
    "print(fibo(99, ans_arr))"
   ]
  },
  {
   "cell_type": "code",
   "execution_count": null,
   "metadata": {},
   "outputs": [],
   "source": []
  }
 ],
 "metadata": {
  "kernelspec": {
   "display_name": "Python 3",
   "language": "python",
   "name": "python3"
  },
  "language_info": {
   "codemirror_mode": {
    "name": "ipython",
    "version": 3
   },
   "file_extension": ".py",
   "mimetype": "text/x-python",
   "name": "python",
   "nbconvert_exporter": "python",
   "pygments_lexer": "ipython3",
   "version": "3.11.2"
  },
  "orig_nbformat": 4
 },
 "nbformat": 4,
 "nbformat_minor": 2
}
