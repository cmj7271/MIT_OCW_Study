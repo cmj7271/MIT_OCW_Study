{
 "cells": [
  {
   "cell_type": "code",
   "execution_count": 4,
   "metadata": {},
   "outputs": [
    {
     "name": "stdout",
     "output_type": "stream",
     "text": [
      "<class 'dict'>\n",
      "<class 'dict_keys'>\n",
      "<class 'dict_values'>\n",
      "dict_keys(['A', 'B']) dict_values(['123', 'adaasd'])\n",
      "dict_keys(['B', 'c']) dict_values(['adaasd', 12234])\n"
     ]
    }
   ],
   "source": [
    "dic = {\"A\" : \"123\", \"B\" : \"adaasd\"}\n",
    "\n",
    "print(type(dic))\n",
    "print(type(dic.keys()))\n",
    "print(type(dic.values()))\n",
    "\n",
    "keys = dic.keys()\n",
    "values = dic.values()\n",
    "\n",
    "print(keys, values)\n",
    "\n",
    "del dic[\"A\"]\n",
    "dic[\"c\"] = 12234\n",
    "\n",
    "print(keys, values)"
   ]
  },
  {
   "cell_type": "markdown",
   "metadata": {},
   "source": [
    "dic.keys, values() 는 다른 `class` 로 정의됨  \n",
    "또한, 원래 dic의 변화에 능동적으로(dynamic) 변함  \n",
    "또한, 이 방식은 적은 고정된 메모리를 사용하면서, 빠름  \n",
    "참고 : https://stackoverflow.com/questions/8957750/what-are-dictionary-view-objects"
   ]
  },
  {
   "cell_type": "markdown",
   "metadata": {},
   "source": [
    "* d : 알파벳과 숫자가 쌍인 dict, 내림차순으로 첫번째인 알파벳에 해당하는 숫자 반환하는 함수 get_min(d) (139p.)"
   ]
  },
  {
   "cell_type": "code",
   "execution_count": 1,
   "metadata": {},
   "outputs": [
    {
     "name": "stdout",
     "output_type": "stream",
     "text": [
      "999\n"
     ]
    }
   ],
   "source": [
    "def get_min(d) :\n",
    "    min_alpha = sorted(d.keys())[0]\n",
    "    return d[min_alpha]\n",
    "\n",
    "\n",
    "dic = {\"c\" : 123, \"b\" : 234, \"a\" : 999}\n",
    "\n",
    "print(get_min(dic))"
   ]
  },
  {
   "cell_type": "markdown",
   "metadata": {},
   "source": [
    "두 함수 정의에 성능차이가 있을까?"
   ]
  },
  {
   "cell_type": "code",
   "execution_count": 8,
   "metadata": {},
   "outputs": [
    {
     "name": "stdout",
     "output_type": "stream",
     "text": [
      "True\n",
      "True\n"
     ]
    }
   ],
   "source": [
    "def is_pal_1(s) :\n",
    "    if len(s) <= 1 :\n",
    "        return True\n",
    "    \n",
    "    else :\n",
    "        return s[0] == s[-1] and is_pal_1(s[1:-1])\n",
    "    \n",
    "\n",
    "def is_pal_2(s) :\n",
    "    if len(s) <= 1 :\n",
    "        return True\n",
    "    \n",
    "    else :\n",
    "        return is_pal_2(s[1:-1]) and s[0] == s[-1]\n",
    "    \n",
    "\n",
    "# else return 에서의 순서만 다름\n",
    "print(is_pal_1(\"abcba\"))\n",
    "print(is_pal_2(\"abcba\"))"
   ]
  },
  {
   "cell_type": "markdown",
   "metadata": {},
   "source": [
    "* short-circuit evaluation (152p.)  \n",
    "`and`, `or` 키워드에 대해서 발생함  \n",
    "`&`, `|` 에 대해서는 발생하지 않고, 두 조건 모두 판별"
   ]
  },
  {
   "cell_type": "code",
   "execution_count": 10,
   "metadata": {},
   "outputs": [
    {
     "name": "stdout",
     "output_type": "stream",
     "text": [
      "False\n"
     ]
    },
    {
     "ename": "ZeroDivisionError",
     "evalue": "division by zero",
     "output_type": "error",
     "traceback": [
      "\u001b[1;31m---------------------------------------------------------------------------\u001b[0m",
      "\u001b[1;31mZeroDivisionError\u001b[0m                         Traceback (most recent call last)",
      "Cell \u001b[1;32mIn[10], line 5\u001b[0m\n\u001b[0;32m      2\u001b[0m b \u001b[39m=\u001b[39m \u001b[39m5\u001b[39m\n\u001b[0;32m      4\u001b[0m \u001b[39mprint\u001b[39m(a \u001b[39m>\u001b[39m \u001b[39m10\u001b[39m \u001b[39mand\u001b[39;00m (b\u001b[39m/\u001b[39m\u001b[39m0\u001b[39m) \u001b[39m==\u001b[39m \u001b[39m0\u001b[39m) \u001b[39m# 앞이 거짓이므로 뒤는 판단하지 않음\u001b[39;00m\n\u001b[1;32m----> 5\u001b[0m \u001b[39mprint\u001b[39m(a \u001b[39m>\u001b[39m \u001b[39m10\u001b[39m \u001b[39m&\u001b[39m (b\u001b[39m/\u001b[39;49m\u001b[39m0\u001b[39;49m) \u001b[39m==\u001b[39m \u001b[39m0\u001b[39m) \u001b[39m# 끝까지 검사하기 때문에 error 발생\u001b[39;00m\n",
      "\u001b[1;31mZeroDivisionError\u001b[0m: division by zero"
     ]
    }
   ],
   "source": [
    "a = 10\n",
    "b = 5\n",
    "\n",
    "print(a > 10 and (b/0) == 0) # 앞이 거짓이므로 뒤는 판단하지 않음\n",
    "print(a > 10 & (b/0) == 0) # 끝까지 검사하기 때문에 error 발생"
   ]
  },
  {
   "cell_type": "markdown",
   "metadata": {},
   "source": [
    "* hash  \n",
    "query 를 위한 시간이 O(1)  \n",
    "query : insert, delete, search 를 의미  \n",
    "  \n",
    "원리 :  \n",
    "데이터를 정수로 만들어주는 함수 h(x)를 설정  \n",
    "h(x) 는 일정범위(0 <= < M) 사이의 정수를 출력한다.  \n",
    "h(x) 의 출력값인 해시값을 통해 자료형에 접근한다.  \n",
    "\n",
    "어떤 데이터 a, 자료형 T 에 대해  \n",
    "insert : T(h(a)) --> True 로 바꿈  \n",
    "delete : T(h(a)) --> False 로 바꿈  \n",
    "search : T(h(a)) 가 True 인지 판별  \n",
    "  \n",
    "해시함수가 모든 입력에 대해 서로 구분된다는 보장이 안될 수 있다.  \n",
    "데이터 a, b (a != b) 에 대해 h(a) == h(b) 일 때,  \n",
    "`해시 충돌`이 발생했다고 한다."
   ]
  }
 ],
 "metadata": {
  "kernelspec": {
   "display_name": "Python 3",
   "language": "python",
   "name": "python3"
  },
  "language_info": {
   "codemirror_mode": {
    "name": "ipython",
    "version": 3
   },
   "file_extension": ".py",
   "mimetype": "text/x-python",
   "name": "python",
   "nbconvert_exporter": "python",
   "pygments_lexer": "ipython3",
   "version": "3.11.2"
  },
  "orig_nbformat": 4
 },
 "nbformat": 4,
 "nbformat_minor": 2
}
