{
 "cells": [
  {
   "cell_type": "markdown",
   "metadata": {},
   "source": [
    "* nis_word_guessed  \n",
    "하나라도 겹치지 않는다면 바로 False 니까  \n",
    "일일이 다 확인할 필요는 없음  \n",
    "--> 다른 거 확인하면 바로 False return 하도록  \n",
    "  \n",
    "guesses_remainging 왜 100 이징...  \n",
    "\n",
    "현상 :  \n",
    "guess_remaining, warning 이 줄지 않음  \n",
    "맞든 틀리든 무조건 good guess 뜸  \n",
    "  \n",
    "warning 이 -1 일 때 탈출이 아니라 guesses 가 0 이하일때 실패임  \n",
    "\n",
    "hangman, hangman_with_hint 위치가 이상행 --> show_possible_matches 실행이 선언보다 앞임  \n",
    "  \n",
    "'*' 입력시 재귀 오류(?) 발생  \n"
   ]
  },
  {
   "cell_type": "code",
   "execution_count": 1,
   "metadata": {},
   "outputs": [
    {
     "name": "stdout",
     "output_type": "stream",
     "text": [
      "a_ _ le\n"
     ]
    }
   ],
   "source": [
    "def get_guessed_word(secret_word, letters_guessed):\n",
    "    guessed_word = ''\n",
    "    for i in secret_word :\n",
    "        if i in letters_guessed :\n",
    "            guessed_word += i\n",
    "        else :\n",
    "            guessed_word += '_ '\n",
    "    return guessed_word\n",
    "\n",
    "print(get_guessed_word(\"apple\", [\"a\", \"l\", \"e\"]))"
   ]
  },
  {
   "cell_type": "code",
   "execution_count": null,
   "metadata": {},
   "outputs": [],
   "source": []
  }
 ],
 "metadata": {
  "kernelspec": {
   "display_name": "Python 3",
   "language": "python",
   "name": "python3"
  },
  "language_info": {
   "codemirror_mode": {
    "name": "ipython",
    "version": 3
   },
   "file_extension": ".py",
   "mimetype": "text/x-python",
   "name": "python",
   "nbconvert_exporter": "python",
   "pygments_lexer": "ipython3",
   "version": "3.11.2"
  },
  "orig_nbformat": 4
 },
 "nbformat": 4,
 "nbformat_minor": 2
}
