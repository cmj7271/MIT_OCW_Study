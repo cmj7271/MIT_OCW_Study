{
 "cells": [
  {
   "attachments": {},
   "cell_type": "markdown",
   "metadata": {},
   "source": [
    "* 1920 수 찾기"
   ]
  },
  {
   "cell_type": "code",
   "execution_count": null,
   "metadata": {},
   "outputs": [],
   "source": [
    "input()\n",
    "lst1 = list(map(int, input().split()))\n",
    "lst1.sort()\n",
    "\n",
    "input()\n",
    "lst2 = list(map(int, input().split()))\n",
    "\n",
    "for num in lst2 :\n",
    "    if num >= lst1[0] and num <= lst1[-1] :\n",
    "        low = 0\n",
    "        high = len(lst1) - 1\n",
    "\n",
    "        while low <= high :\n",
    "            mid = (low + high) // 2\n",
    "\n",
    "            if lst1[mid] >= num :\n",
    "                high = mid - 1\n",
    "            else :\n",
    "                low = mid + 1\n",
    "\n",
    "        if lst1[low] == num :\n",
    "            print(1)\n",
    "        else :\n",
    "            print(0)\n",
    "    else :\n",
    "        print(0)"
   ]
  },
  {
   "attachments": {},
   "cell_type": "markdown",
   "metadata": {},
   "source": [
    "* 10610 30"
   ]
  },
  {
   "cell_type": "code",
   "execution_count": 7,
   "metadata": {},
   "outputs": [
    {
     "name": "stdout",
     "output_type": "stream",
     "text": [
      "3210"
     ]
    }
   ],
   "source": [
    "num = sorted(list(map(int, input())), reverse = True)\n",
    "\n",
    "if 0 in num and sum(num) % 3 == 0 :\n",
    "    for n in num :\n",
    "        print(n, end = \"\")\n",
    "else :\n",
    "    print(-1)"
   ]
  },
  {
   "attachments": {},
   "cell_type": "markdown",
   "metadata": {},
   "source": [
    "* 17478 재귀함수가 뭔가요?"
   ]
  },
  {
   "cell_type": "code",
   "execution_count": null,
   "metadata": {},
   "outputs": [],
   "source": [
    "def f(n) :\n",
    "    print(\"____\" * (num - n), end = '')\n",
    "    print(\"\\\"재귀함수가 뭔가요?\\\"\")\n",
    "    if n > 0 :\n",
    "        print(\"____\" * (num - n), end = '')\n",
    "        print(\"\\\"잘 들어보게. 옛날옛날 한 산 꼭대기에 이세상 모든 지식을 통달한 선인이 있었어.\")\n",
    "        print(\"____\" * (num - n), end = '')\n",
    "        print(\"마을 사람들은 모두 그 선인에게 수많은 질문을 했고, 모두 지혜롭게 대답해 주었지.\")\n",
    "        print(\"____\" * (num - n), end = '')\n",
    "        print(\"그의 답은 대부분 옳았다고 하네. 그런데 어느 날, 그 선인에게 한 선비가 찾아와서 물었어.\\\"\")\n",
    "        f(n-1)\n",
    "        print(\"____\" * (num - n), end = '')\n",
    "        print(\"라고 답변하였지.\")\n",
    "    else :\n",
    "        print(\"____\" * (num - n), end = '')\n",
    "        print(\"\\\"재귀함수는 자기 자신을 호출하는 함수라네\\\"\")\n",
    "        print(\"____\" * (num - n), end = '')\n",
    "        print(\"라고 답변하였지.\")\n",
    "    \n",
    "\n",
    "global num\n",
    "num = int(input())\n",
    "print(\"어느 한 컴퓨터공학과 학생이 유명한 교수님을 찾아가 물었다.\")\n",
    "f(num)"
   ]
  },
  {
   "cell_type": "code",
   "execution_count": 1,
   "metadata": {},
   "outputs": [
    {
     "name": "stdout",
     "output_type": "stream",
     "text": [
      "어느 한 컴퓨터공학과 학생이 유명한 교수님을 찾아가 물었다.\n",
      "\"재귀함수가 뭔가요?\"\n",
      "\"잘 들어보게. 옛날옛날 한 산 꼭대기에 이세상 모든 지식을 통달한 선인이 있었어.\n",
      "마을 사람들은 모두 그 선인에게 수많은 질문을 했고, 모두 지혜롭게 대답해 주었지.\n",
      "그의 답은 대부분 옳았다고 하네. 그런데 어느 날, 그 선인에게 한 선비가 찾아와서 물었어.\"\n",
      "____\"재귀함수가 뭔가요?\"\n",
      "____\"잘 들어보게. 옛날옛날 한 산 꼭대기에 이세상 모든 지식을 통달한 선인이 있었어.\n",
      "____마을 사람들은 모두 그 선인에게 수많은 질문을 했고, 모두 지혜롭게 대답해 주었지.\n",
      "____그의 답은 대부분 옳았다고 하네. 그런데 어느 날, 그 선인에게 한 선비가 찾아와서 물었어.\"\n",
      "________\"재귀함수가 뭔가요?\"\n",
      "________\"재귀함수는 자기 자신을 호출하는 함수라네\"\n",
      "________라고 답변하였지.\n",
      "____라고 답변하였지.\n",
      "라고 답변하였지.\n"
     ]
    }
   ],
   "source": [
    "def f(a = 0, num = 1) :\n",
    "    print(\"____\" * a, end = '')\n",
    "    print(\"\\\"재귀함수가 뭔가요?\\\"\")\n",
    "    if num > a :\n",
    "        print(\"____\" * a, end = '')\n",
    "        print(\"\\\"잘 들어보게. 옛날옛날 한 산 꼭대기에 이세상 모든 지식을 통달한 선인이 있었어.\")\n",
    "        print(\"____\" * a, end = '')\n",
    "        print(\"마을 사람들은 모두 그 선인에게 수많은 질문을 했고, 모두 지혜롭게 대답해 주었지.\")\n",
    "        print(\"____\" * a, end = '')\n",
    "        print(\"그의 답은 대부분 옳았다고 하네. 그런데 어느 날, 그 선인에게 한 선비가 찾아와서 물었어.\\\"\")\n",
    "        f(a+1, num)\n",
    "        print(\"____\" * a, end = '')\n",
    "        print(\"라고 답변하였지.\")\n",
    "    else :\n",
    "        print(\"____\" * a, end = '')\n",
    "        print(\"\\\"재귀함수는 자기 자신을 호출하는 함수라네\\\"\")\n",
    "        print(\"____\" * a, end = '')\n",
    "        print(\"라고 답변하였지.\")\n",
    "    \n",
    "\n",
    "num = int(input())\n",
    "print(\"어느 한 컴퓨터공학과 학생이 유명한 교수님을 찾아가 물었다.\")\n",
    "f(num = num)"
   ]
  },
  {
   "cell_type": "code",
   "execution_count": null,
   "metadata": {},
   "outputs": [],
   "source": []
  }
 ],
 "metadata": {
  "kernelspec": {
   "display_name": "Python 3",
   "language": "python",
   "name": "python3"
  },
  "language_info": {
   "codemirror_mode": {
    "name": "ipython",
    "version": 3
   },
   "file_extension": ".py",
   "mimetype": "text/x-python",
   "name": "python",
   "nbconvert_exporter": "python",
   "pygments_lexer": "ipython3",
   "version": "3.11.2"
  },
  "orig_nbformat": 4
 },
 "nbformat": 4,
 "nbformat_minor": 2
}
