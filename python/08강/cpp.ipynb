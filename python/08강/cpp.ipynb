{
 "cells": [
  {
   "cell_type": "markdown",
   "metadata": {},
   "source": [
    "배열의 이름은 0번째 주소"
   ]
  },
  {
   "cell_type": "markdown",
   "metadata": {},
   "source": [
    "```cpp\n",
    "#include <iostream>\n",
    "using namespace std;\n",
    "\n",
    "int main(void) {\n",
    "    int arr[5] = {0};\n",
    "\n",
    "    arr[0] = 100;\n",
    "    arr[1] = 999;\n",
    "\n",
    "    cout << arr << \" \" << (arr + 1) << endl;\n",
    "    cout << *(arr + 0) << \" \" << *(arr + 1) << endl;\n",
    "    return 0;\n",
    "}\n",
    "```  \n",
    "arr[] == (type)* arr"
   ]
  },
  {
   "cell_type": "markdown",
   "metadata": {},
   "source": [
    "* 연습문제 5번"
   ]
  },
  {
   "cell_type": "markdown",
   "metadata": {},
   "source": [
    "```cpp\n",
    "#include <iostream>\n",
    "using namespace std;\n",
    "\n",
    "bool isMultiple(int a, int b);\n",
    "\n",
    "int main(void) {\n",
    "    cout << \"두 정수를 입력 >> \";\n",
    "    int a, b = 0;\n",
    "    cin >> a >> b;\n",
    "\n",
    "    if(isMultiple(a, b)) cout << \"yes\";\n",
    "    else cout << \"No\";\n",
    "\n",
    "    return 0;\n",
    "}\n",
    "\n",
    "bool isMultiple(int a, int b) {\n",
    "    if(b%a == 0) return true;\n",
    "    \n",
    "    return false;\n",
    "}\n",
    "```"
   ]
  },
  {
   "cell_type": "markdown",
   "metadata": {},
   "source": [
    "* 연습문제 6번"
   ]
  },
  {
   "cell_type": "markdown",
   "metadata": {},
   "source": [
    "```cpp\n",
    "#include <iostream>\n",
    "using namespace std;\n",
    "\n",
    "void swap_arr(int* p, int* q, int size);\n",
    "void print_arr(int* p, int size);\n",
    "\n",
    "int main(void) {\n",
    "    int a[] = {1, 2, 3, 4, 5};\n",
    "    int b[] = {9, 8, 7, 6, 5};\n",
    "\n",
    "    cout << \"a arr : \";\n",
    "    print_arr(a, 5);\n",
    "\n",
    "    cout << \"b arr : \";\n",
    "    print_arr(b, 5);\n",
    "\n",
    "    swap_arr(a, b, 5);\n",
    "\n",
    "    cout << \"a arr : \";\n",
    "    print_arr(a, 5);\n",
    "\n",
    "    cout << \"b arr : \";\n",
    "    print_arr(b, 5);\n",
    "\n",
    "    return 0;\n",
    "}\n",
    "\n",
    "void swap_arr(int* p, int* q, int size) {\n",
    "    int tmp = 0;\n",
    "    for(int i = 0; i < size; i++) {\n",
    "        tmp = *(p + i);\n",
    "        *(p + i) = *(q + i);\n",
    "        *(q + i) = tmp;\n",
    "    }\n",
    "}\n",
    "\n",
    "void print_arr(int* p, int size) {\n",
    "    for(int i = 0; i < size; i++) {\n",
    "        cout << *(p + i) << \" \";\n",
    "    }\n",
    "    cout << endl;\n",
    "}\n",
    "```"
   ]
  },
  {
   "cell_type": "markdown",
   "metadata": {},
   "source": []
  }
 ],
 "metadata": {
  "language_info": {
   "name": "python"
  },
  "orig_nbformat": 4
 },
 "nbformat": 4,
 "nbformat_minor": 2
}
