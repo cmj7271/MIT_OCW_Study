{
 "cells": [
  {
   "cell_type": "code",
   "execution_count": 12,
   "metadata": {},
   "outputs": [
    {
     "name": "stdout",
     "output_type": "stream",
     "text": [
      "main start\n",
      "\n",
      "class start\n",
      "class end\n",
      "\n",
      "main end\n"
     ]
    }
   ],
   "source": [
    "class test :\n",
    "    def __init__(self) :\n",
    "        print(\"class start\")\n",
    "\n",
    "\n",
    "    def __del__(self) :\n",
    "        print(\"class end\\n\")\n",
    "\n",
    "print(\"main start\\n\")\n",
    "\n",
    "c = test()\n",
    "del c\n",
    "print(\"main end\")"
   ]
  },
  {
   "cell_type": "code",
   "execution_count": 6,
   "metadata": {},
   "outputs": [
    {
     "name": "stdout",
     "output_type": "stream",
     "text": [
      "<class 'int'>\n"
     ]
    }
   ],
   "source": [
    "a = int(5)  # int 라는 클래스에 5라는 parameter 를 전달해서 만들어진 instance a\n",
    "\n",
    "print(type(a))\n",
    "# everything in python is object"
   ]
  },
  {
   "cell_type": "markdown",
   "metadata": {},
   "source": [
    "* OOP(Object Oriented Programming)  \n",
    "어떤 특정 문법이 아니라 프로그램을 짜는 사고방식  \n",
    "  \n",
    "지금까지 해온 것은 절차지향 프로그래밍으로 일련의 순서가 중요했음  \n",
    "(물론 코드가 위에서 아래순으로 가는 것은 아니었지만, `순서` 을 중시했다는 뜻)  \n",
    "ex) 1 --> 2 --> 3 ...\n",
    "\n",
    "객체지향에서는 객체간의 `상호작용` 을 중시  \n",
    "ex) 1이 2에게 무언가를 전달, 전달받은 2는 결과를 출력하면서 동시에 3에게 전달...  \n",
    "ex) 현실의 예시 : (객체지향의 사실과 오해라는 책에서 발췌)  \n",
    "`손님`, `캐시어`, `바리스타` 가 있음  \n",
    "`손님` 은 `캐시어`에게 커피 주문이라는 `책임` 이 있음  \n",
    "`캐시어` 는 `손님` 에게 주문을 받는 `책임` 및 `바리스타` 에게 주문을 전달하는 `책임` 이 있음  \n",
    "`바리스타` 는 `캐시어` 에게 받은 주문에 맞는 커피를 만들고 `캐시어` 에게 커피를 전달할 `책임` 이 있음  \n",
    "  \n",
    "이런 방식의 장점은 `책임` 을 구현하는 방법은 달라져도 상관없다는 것이다.  \n",
    "예컨대, `바리스타` 가 커피를 어떻게 만드는지는 상관없다. 그저 `캐시어` 가 요구한 커피만을 만들고, 전달하면 그만이다.  \n",
    "사용자(미리 작성된 객체를 사용하고자 하는 개발자) 에게는 사실 구현 방법을 몰라도 상관없다.  \n",
    "그저 `method` 의 사용방법만 알면 그만이다. ex) list.append(), set.add() ...  \n",
    "또는... python 의 '*' 연산자. (str) * (int) 는 (str) 을 (int) 만큼 반복해주는데, 이것이 내부적으로 어떻게 구현됬는지는 상관할바 아님\n",
    "  \n",
    "\n",
    "그래서 어떻게 공부하면 되는데  \n",
    "인터넷에서 좀만 찾아보면 알겠지만, 객체지향은 문법이 아니라 하나의 패러다임이다보니 공부 방법이 일반적인 언어 공부랑은 다르다...  \n",
    "당장 백준에서도 이악물고 객체지향으로 풀겠다 아니면 걍 풀린다..(사실 백준은 알고리즘을 공부하는 거다보니 그럴 수 밖에...)  \n",
    "보통 많이 말하는 방법은 직접 프로젝트를 작성하는 것이다. 예시로는 로또, 간단한 게임 등등...  \n",
    "그 이유로는 단순 한 문제보다는 구현할 것이 많은 프로젝트가 객체지향의 장점을 느끼기 좋고 또한 연습하기 좋아서이다.  \n",
    "하지만, 프로젝트는 시간이 오래걸리고, 어느정도의 구현 실력이 보장되어야 한다는 단점아닌 단점이 있다.  \n",
    "그러므로 일단 객체지향에서 많이 사용되는 `class` 관련 문법에 익숙해지고, 활용해보는 것이 중요하다고 생각한다.  \n",
    "고로 이번 8강 스터디에서는 `class` 문법에 익숙해지는 방향으로 진행하고자 한다."
   ]
  },
  {
   "cell_type": "markdown",
   "metadata": {},
   "source": []
  }
 ],
 "metadata": {
  "kernelspec": {
   "display_name": "Python 3",
   "language": "python",
   "name": "python3"
  },
  "language_info": {
   "codemirror_mode": {
    "name": "ipython",
    "version": 3
   },
   "file_extension": ".py",
   "mimetype": "text/x-python",
   "name": "python",
   "nbconvert_exporter": "python",
   "pygments_lexer": "ipython3",
   "version": "3.11.2"
  },
  "orig_nbformat": 4
 },
 "nbformat": 4,
 "nbformat_minor": 2
}
