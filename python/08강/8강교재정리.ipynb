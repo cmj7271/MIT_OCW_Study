{
 "cells": [
  {
   "cell_type": "markdown",
   "metadata": {},
   "source": [
    "* class vs instance  \n",
    "class 는 일종의 틀로써 실제 메모리에 존재하지는 않는다.  \n",
    "instance 는 런타임에서 만들어지는 실제 객체로서 메모리에 존재한다."
   ]
  },
  {
   "cell_type": "code",
   "execution_count": 7,
   "metadata": {},
   "outputs": [
    {
     "name": "stdout",
     "output_type": "stream",
     "text": [
      "main start\n",
      "class start\n",
      "class start\n",
      "100\n",
      "1\n",
      "200\n",
      "2\n",
      "main end\n"
     ]
    }
   ],
   "source": [
    "class test :\n",
    "    class_var = 0 # class 변수\n",
    "    \n",
    "    def __init__(self, a) :\n",
    "        print(\"class start\")\n",
    "        self.a = a\n",
    "\n",
    "    def print_elt(self) :\n",
    "        print(self.a)\n",
    "        test.class_var += 1\n",
    "\n",
    "\n",
    "print(\"main start\")\n",
    "\n",
    "a = test(100)\n",
    "b = test(200)\n",
    "\n",
    "a.print_elt()\n",
    "print(test.class_var)\n",
    "\n",
    "test.print_elt(b)\n",
    "print(test.class_var)\n",
    "\n",
    "print(\"main end\")"
   ]
  },
  {
   "cell_type": "markdown",
   "metadata": {},
   "source": [
    "* class Employee 만들기  \n",
    "\n",
    "```python\n",
    "def main() :\n",
    "    Employee(\"사장\", 1200)\n",
    "    Employee(\"김수철\", 300)\n",
    "    Employee(\"이영애\", 600)\n",
    "\n",
    "    for i in (빈칸) :\n",
    "        print(i)\n",
    "\n",
    "main()\n",
    "```\n",
    "\n",
    "빈칸 채우고, 아래의 출력이 나오도록 class `Employee` 정의\n",
    "\n",
    "SN : 1 이름 : 사장 월급 : 1200  \n",
    "SN : 2 이름 : 김수철 월급 : 300  \n",
    "SN : 3 이름 : 이영애 월급 : 600  \n",
    "SN : 4 이름 : 장동철 월급 : 400  "
   ]
  },
  {
   "cell_type": "markdown",
   "metadata": {},
   "source": [
    "* class BankAccount 만들기  \n",
    "  \n",
    "```python\n",
    "def main() :\n",
    "    a = BankAccount(\"김철수\", \"82345\", 1000)\n",
    "    print(a)\n",
    "    print(\"Interest Rate =\", (빈칸), \"Maturity :\", a.maturityAmount())\n",
    "\n",
    "    a.deposit(3000)\n",
    "    print(a)\n",
    "    a.withdraw(1500)\n",
    "    print(a)\n",
    "\n",
    "    (빈칸) = 0.7\n",
    "\n",
    "    print(\"Interest_rate =\", (빈칸), \"Maturity =\", a.maturityAmount())\n",
    "\n",
    "main()\n",
    "```\n",
    "\n",
    "(빈칸) 채우고, 아래의 출력이 나오도록 class `BankAccount` 정의 ((빈칸)은 다 같은 코드임)  \n",
    "  \n",
    "Name : 김철수 Number : 82345 Balance : 1000  \n",
    "Interest Rate = 0.3 Maturity : 1300.0  \n",
    "Name : 김철수 Number : 82345 Balance : 4000  \n",
    "Name : 김철수 Number : 82345 Balance : 2500  \n",
    "Interest_rate = 0.7 Maturity = 4250.0  "
   ]
  },
  {
   "cell_type": "markdown",
   "metadata": {},
   "source": [
    "* class Complex(복소수) 만들기  \n",
    "```python\n",
    "def main() :\n",
    "    a = Complex(3.0, -4.5)\n",
    "    b = Complex(4.0, -5.0)\n",
    "    c = Complex(-1.0, 0.5)\n",
    "\n",
    "    print(a + b)\n",
    "    print(a + b - c)\n",
    "    print(a - b)\n",
    "    print(a - b + c)\n",
    "    print(a - c)\n",
    "    print(b == (a - c))\n",
    "\n",
    "main()\n",
    "```\n",
    "  \n",
    "밑의 출력결과가 나오도록 class `Complex` 정의  \n",
    "  \n",
    "Complex(7.0, -9.5)  \n",
    "Complex(8.0, -10.0)  \n",
    "Complex(-1.0, 0.5)  \n",
    "Complex(-2.0, 1.0)  \n",
    "Complex(4.0, -5.0)  \n",
    "True  "
   ]
  },
  {
   "cell_type": "markdown",
   "metadata": {},
   "source": []
  }
 ],
 "metadata": {
  "kernelspec": {
   "display_name": "Python 3",
   "language": "python",
   "name": "python3"
  },
  "language_info": {
   "codemirror_mode": {
    "name": "ipython",
    "version": 3
   },
   "file_extension": ".py",
   "mimetype": "text/x-python",
   "name": "python",
   "nbconvert_exporter": "python",
   "pygments_lexer": "ipython3",
   "version": "3.11.2"
  },
  "orig_nbformat": 4
 },
 "nbformat": 4,
 "nbformat_minor": 2
}
