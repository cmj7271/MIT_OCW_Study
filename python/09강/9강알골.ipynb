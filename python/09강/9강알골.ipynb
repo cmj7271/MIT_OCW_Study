{
 "cells": [
  {
   "cell_type": "markdown",
   "metadata": {},
   "source": [
    "* 정렬  \n",
    "정수 list 를 받았을 때, 정렬된 list 반환하기  \n",
    "왜 필요한가?  \n",
    "정렬 자체가 필요할 수도 있지만, 다른 문제를 해결하는 과정에서 필요할 수 있음  \n",
    "무작위로 되있는 것보다는 정렬된 편이 규칙적인 행동을 시행하기에 좋음  \n",
    "ex) 이분탐색, 중간값찾기 등등  \n",
    "물론 정렬자체에도 시간이 필요하기 때문에 꼭 필요한지 고려 필요  "
   ]
  },
  {
   "cell_type": "markdown",
   "metadata": {},
   "source": [
    "사용예시 백준 2776번 암기왕"
   ]
  },
  {
   "cell_type": "code",
   "execution_count": null,
   "metadata": {
    "vscode": {
     "languageId": "plaintext"
    }
   },
   "outputs": [],
   "source": []
  },
  {
   "cell_type": "markdown",
   "metadata": {},
   "source": [
    "* 삽입정렬(isertion sort)  \n",
    "앞에서부터 하나씩 선택하여 그 전 리스트에서 맞는 위치에 삽입   \n",
    "start_idx = 0, seq_idx = 1 --> n - 1  \n",
    "seq_idx 를 하나씩 늘리면서 seq_idx를  \n",
    "start_idx 부터 seq_idx - 1 사이에서 순서에 맞게 삽입  \n",
    "즉, seq_idx가 임의의 k(start_idx ~ seq_idx - 1)에 들어가고, k + 1 부터는 하나씩 밀리는 정렬  \n",
    "일반적으로 n 번째이면, n - 1 탐색 필요 --> O(n^2) 필요  \n",
    "cf) n - 1 탐색(선형탐색) 대신 이분탐색을 사용한다면 조금 시간을 줄일 수 있음 --> O(n * log n)"
   ]
  },
  {
   "cell_type": "markdown",
   "metadata": {},
   "source": [
    "* 병합(합병) 정렬(merge sort)  \n",
    "정렬 구간을 계속 절반으로 나눔 --> 재귀적  \n",
    "정렬된 두 구간을 병합(합병, merge)  \n",
    "병합 :  \n",
    "정렬된 두 구간에서 하나씩 가져와 비교 후 작은 것을 반환  \n",
    "병합을 구현하는 것이 가장 중요  \n",
    "임의의 n개 정렬시, n/2 의 정렬된 2개의 리스트에서 n번 비교 필요, 깊이가 깊어질수록 n이 절반이 됨 --> O(n* log n)"
   ]
  },
  {
   "cell_type": "markdown",
   "metadata": {},
   "source": [
    "* 퀵정렬 (quick sort)  \n",
    "기준값(pivot) 을 기준으로 큰것, 작은 것 분리(분활)  \n",
    "그 경계를 기준으로 2구간에 대해 재귀적으로 반복  \n",
    "분활에 따라, pivot 을 정하는 방법에 따라 성능차이가 조금씩 생긴다.  \n",
    "시간복잡도는 O(n * log n) 이지만, 다른 정렬에 비해 평균적으로 빠르다고 알려져있다."
   ]
  },
  {
   "cell_type": "markdown",
   "metadata": {},
   "source": [
    "--------\n",
    "\n",
    "* ICPC 2회차 정리  \n",
    "배열  \n",
    "연결 리스트  \n",
    "스택  \n",
    "큐  \n",
    "덱  \n",
    "\n",
    "----------"
   ]
  },
  {
   "cell_type": "markdown",
   "metadata": {},
   "source": [
    "배열 :  \n",
    "~~너가 아는 그 배열이 맞다~~  \n",
    "메모리에 연속적으로 할당되어있는 데이터 자료형  \n",
    "임의의 a[i]에 접근가능(random access)  \n",
    "하지만,  \n",
    "a[i] 옆에 x 삽입(insert) --> 옆으로 미는 과정이 오래걸림  \n",
    "a[i] 제거(erase, remove) --> 땡기는 과정이 오래 걸림  \n",
    "의 경우는 오래 걸린다.  "
   ]
  },
  {
   "cell_type": "markdown",
   "metadata": {},
   "source": [
    "연결 리스트 :  \n",
    "원소는 노드(node)로 구성되어있음.  \n",
    "노드는 자료와 포인터로 구성됨  \n",
    "포인터가 다음 자료를 가르키기 때문에 삽입, 삭제가 용이하다.(단순히 포인터를 바꾸면 된다.)  \n",
    "대신, 임의접근(random access)는 불가능하다.  \n",
    "  \n",
    "---------"
   ]
  },
  {
   "cell_type": "markdown",
   "metadata": {},
   "source": [
    "스택(stack)  \n",
    "배열 및 연결 리스트로 구현가능한 자료구조  \n",
    "LIFO(Last In First Out)의 구조  \n",
    "push(x) : x 를 삽입  \n",
    "pop() : `마지막`으로 넣은 자료를 반환  \n",
    "isempty() : 비었는지 확인  \n",
    "비유 :  \n",
    "팬케이크는 완성된 순서로 올려지고, 먹는 것은 가장 마지막에 완성된 순서임  \n",
    "활용 : 웹브라우저 방문 이력, 되돌리기(ctrl + z)  "
   ]
  },
  {
   "cell_type": "markdown",
   "metadata": {},
   "source": [
    "큐(queue)  \n",
    "스택과 유사함  \n",
    "하지만, FIFO(First In First Out)의 구조임  \n",
    "push : 삽입  \n",
    "pop() : `처음`으로 넣은 자료를 반환  \n",
    "isempty() : 비었는지 확인  \n",
    "비유 :  \n",
    "음식점 앞 줄은 처음 온 사람이 처음 들어간다."
   ]
  },
  {
   "cell_type": "markdown",
   "metadata": {},
   "source": [
    "덱(deque)  \n",
    "stack + queue  \n",
    "\n",
    "----------"
   ]
  },
  {
   "cell_type": "markdown",
   "metadata": {},
   "source": [
    "c++ 은  \n",
    "배열은 vector  \n",
    "연결 리스트는 list  \n",
    "스택은 stack  \n",
    "큐는 queue  \n",
    "덱은 deque  \n",
    "라는 헤더파일로 지원"
   ]
  },
  {
   "cell_type": "markdown",
   "metadata": {},
   "source": [
    "vector  \n",
    "선언 : vector<자료형> 이름[(초기화할 원소 개수, 원소 값)]  \n",
    "[]를 통한 인덱스 접근 가능  \n",
    "v.at()도 같은 역할이나 out of index 체크함, 대신 느림  \n",
    "v.front() : 첫번째 원소 반환  \n",
    "v.back() : 마지막 원소 반환  \n",
    "v.begin() : 첫번째를 가르키는 iterator 반환  \n",
    "v.end() : 마지막의 `다음`을 가르키는 iterator 반환  \n",
    "v.push_back(x) : 마지막에 x를 삽입  \n",
    "v.pop_back() : 마지막 원소를 제거  \n",
    "v.size() : 원소 개수 반환  \n",
    "v.capacity() : 할당된 공간 반환  \n",
    "  \n",
    "size vs capacity :  \n",
    "원소 개수 vs 할당된 공간(동적 할당)  \n",
    "\n",
    "-----------"
   ]
  },
  {
   "cell_type": "markdown",
   "metadata": {},
   "source": [
    "동적 할당  \n",
    "c :  \n",
    "int* arr = malloc(sizeof(int) * (원하는 크기))  \n",
    "malloc 은 개발자가 원하는 공간을 할당해준다.(byte 단위)  \n",
    "만약 12byte를 원한다면 malloc(12)도 가능하지만...  \n",
    "목적에 맞게 표현해주는 것을 권장  \n",
    "ex) 같은 12byte 라도 sizeof(char) * 12 와 sizeof(int) * 4 는 다른 느낌이다.  \n",
    "전자는 글자를 받을 것이며, 12개까지 받으려는 의도  \n",
    "후자는 int형 정수를 4개 받을려고 하는 의도  \n",
    "그리고 반드시 반드시 free(할당당시의 이름) 를 통해 동적할당을 해체해주어야 함  \n",
    "그렇지 않으면 메모리 누수 발생  \n",
    "동적할당은 heap 영역에 메모리를 지정해주고, 이를 가르키는 포인터에 그 주소를 반환하는 형식으로 진행  \n",
    "하지만, 동적할당된 메모리를 해체하지 않으면, 가르키는 포인터만이 사라지게 되어, 메모리를 반환할 방법이 사라지며, 이를 재활용할 수 없게 된다.  \n",
    "다행히도, 운영체제선에서 전체 프로그램 종료시 heap 영역 전체를 반환해줌. 하지만, 프로그램 도중에 메모리가 부족해질 수 있으니 항상 주의는 필요.  \n",
    "  \n",
    "\n",
    "c++ :  \n",
    "대강의 원리는 비슷하나, 사용방법에 차이가 있음.  \n",
    "`new` 와 `delete` 라는 키워드를 사용  \n",
    "int* (이름) = new (자료형)[원하는 크기]  \n",
    "의 방식  \n",
    "제거시에는 delete [] (동적할당시 이름)  \n",
    "\n",
    "--------------"
   ]
  },
  {
   "cell_type": "markdown",
   "metadata": {},
   "source": [
    "10 * 20 의 배열을 동적할당을 통해 만들어 보기  \n",
    "```cpp\n",
    "#include <iostream>\n",
    "\n",
    "using namespace std;\n",
    "\n",
    "int main() {\n",
    "    int** arr = new int* [10];\n",
    "    arr[0] = new int[200];\n",
    "    for(int i = 1; i < 10; i ++) {\n",
    "        arr[i] = arr[i - 1] + 20;\n",
    "    }\n",
    "\n",
    "    for(int i = 0; i < 10; i++) {\n",
    "        for(int j = 0; j < 20; j++) {\n",
    "            arr[i][j] = i*20 + j;\n",
    "        }\n",
    "    }\n",
    "\n",
    "    for(int i = 0; i < 10; i++) {\n",
    "        for(int j = 0; j < 20; j++) {\n",
    "            cout << arr[i][j] << \" \";\n",
    "        }\n",
    "        cout << '\\n';\n",
    "    }\n",
    "\n",
    "\n",
    "    delete [] arr[0];\n",
    "    delete [] arr;\n",
    "\n",
    "    return 0;\n",
    "}\n",
    "```"
   ]
  },
  {
   "cell_type": "code",
   "execution_count": null,
   "metadata": {},
   "outputs": [],
   "source": [
    "def merge_sort(li,start,end):\n",
    "    \n",
    "    mid=(start+end)//2\n",
    "    \n",
    "    if start+1<end:\n",
    "        merge_sort(li,start,mid)\n",
    "        merge_sort(li,mid+1,end)\n",
    "        \n",
    "        merge(li,start,mid,end)\n",
    "        \n",
    "    else:\n",
    "        if li[start]>li[end]:\n",
    "            li[start],li[end]=li[end],li[start]\n",
    "            \n",
    "        \n",
    "def merge(li,start,mid,end):\n",
    "    l1=li[start:mid+1]\n",
    "    l2=li[mid+1:end+1]\n",
    "    \n",
    "    n=start\n",
    "    \n",
    "    while len(l1)!=0 or len(l2)!=0:\n",
    "        \n",
    "        if l1==[]:\n",
    "            li[n]=l2.pop(0)\n",
    "            n+=1\n",
    "            continue\n",
    "        \n",
    "        if l2==[]:\n",
    "            li[n]=l1.pop(0)\n",
    "            n+=1\n",
    "            continue\n",
    "        \n",
    "        if l1[0]<l2[0]:\n",
    "            li[n]=l1.pop(0)\n",
    "        else:\n",
    "            li[n]=l2.pop(0)\n",
    "        n+=1\n",
    "        \n",
    "li=[3,4,2,5,1,6,2,8,3,9,5]\n",
    "merge_sort(li,0,10)   \n",
    "print(li)\n",
    "        "
   ]
  }
 ],
 "metadata": {
  "language_info": {
   "name": "python"
  },
  "orig_nbformat": 4
 },
 "nbformat": 4,
 "nbformat_minor": 2
}
