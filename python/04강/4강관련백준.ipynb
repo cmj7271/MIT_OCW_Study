{
 "cells": [
  {
   "attachments": {},
   "cell_type": "markdown",
   "metadata": {},
   "source": [
    "* 1010 다리놓기"
   ]
  },
  {
   "cell_type": "code",
   "execution_count": 4,
   "metadata": {},
   "outputs": [
    {
     "name": "stdout",
     "output_type": "stream",
     "text": [
      "1\n",
      "5\n",
      "67863915\n"
     ]
    }
   ],
   "source": [
    "def factorial(n) :\n",
    "    num = 1\n",
    "    for i in range(2, n + 1) :\n",
    "        num *= i\n",
    "    return num\n",
    "\n",
    "def combination(n, k) :\n",
    "    result = factorial(n) // (factorial(k) * factorial(n - k))\n",
    "    return result\n",
    "\n",
    "time = int(input())\n",
    "\n",
    "for _ in range(time) :\n",
    "    n, m = map(int, input().split())\n",
    "    print(combination(m, n))"
   ]
  },
  {
   "cell_type": "code",
   "execution_count": null,
   "metadata": {},
   "outputs": [],
   "source": []
  }
 ],
 "metadata": {
  "kernelspec": {
   "display_name": "Python 3",
   "language": "python",
   "name": "python3"
  },
  "language_info": {
   "codemirror_mode": {
    "name": "ipython",
    "version": 3
   },
   "file_extension": ".py",
   "mimetype": "text/x-python",
   "name": "python",
   "nbconvert_exporter": "python",
   "pygments_lexer": "ipython3",
   "version": "3.11.2"
  },
  "orig_nbformat": 4
 },
 "nbformat": 4,
 "nbformat_minor": 2
}
