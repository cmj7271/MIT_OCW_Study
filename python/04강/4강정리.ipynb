{
 "cells": [
  {
   "attachments": {},
   "cell_type": "markdown",
   "metadata": {},
   "source": [
    "* **함수를 왜 쓰는가?**  \n",
    "함수를 통해서  \n",
    "`decomposition` 문제를 분해하고  \n",
    "`abstraction` 추상화를 해서  \n",
    "문제해결을 위한 로직을 단순하게 만들기 위해"
   ]
  },
  {
   "attachments": {},
   "cell_type": "markdown",
   "metadata": {},
   "source": [
    "* example(사과가 먹고싶어요)  \n",
    "    \n",
    "1. 사과를 배달받는다. ____ --> 1.1 농부가 사과씨를 뿌린다. --> 1.2 사과가 자란다. --> ..... 1.100 사과를 트럭에 담아서 보낸다.  \n",
    "2. 사과를 자른다. _________ --> 2.1 사과를 테이블에 올린다. --> 2.2 칼을 손에 든다. --> 2.3 칼로 사과를 자른다.. ..  \n",
    "3. 사과를 먹는다. _________ --> 3.1 포크를 튼다 --> 3.2 사과를 찌른다. --> 3.3 사과를 입에 넣는다. ...  \n",
    "  \n",
    "`decomposition` : 사과 먹기라는 문제를 1. 2. 3. 으로 쪼갠다.  \n",
    "`abstarction` : 1번을 해결하기 위해 1.농사 와 2.배달 이라는 함수로 추상화했다. 2번 자체를 cut()이라는 함수로 구현했다.  \n",
    "  \n",
    "``` python\n",
    "main() {\n",
    "    ready()  # 내부적으로 농사(), 배달()로 구현되어있음\n",
    "    cut()\n",
    "    eat()\n",
    "}\n",
    "```"
   ]
  },
  {
   "attachments": {},
   "cell_type": "markdown",
   "metadata": {},
   "source": [
    "```c\n",
    "#define ARR_SIZE 100000\n",
    "\n",
    "void shuffle_array(int* arr, int size);\n",
    "\n",
    "int divide(int* arr, int start_idx, int end_idx, int pivot_idx);\n",
    "void quick_sort(int* arr, int left, int right);\n",
    "void swap(int*arr, int idx1, int idx2);\n",
    "\n",
    "int main(void) {\n",
    "    int a[ARR_SIZE] = {0};\n",
    "    int size = sizeof(a) / sizeof(int);\n",
    "    for(int i = 0; i < ARR_SIZE; i++) {\n",
    "        a[i] = i + 1;                     // 정렬된 배열 생성\n",
    "    }\n",
    "\n",
    "    shuffle_array(a, size);\n",
    "    printf(\"shuffle finished\");         // 배열을 무작위로 섞음\n",
    "    printf(\"\\n\");\n",
    "\n",
    "    time_t start = time(NULL);\n",
    "    quick_sort(a, 0, size - 1);         // 배열을 함수로 정렬함\n",
    "    time_t end = time(NULL);\n",
    "\n",
    "    printf(\"sort finished\");\n",
    "    printf(\"\\n\");\n",
    "    printf(\"소요시간 : %lf\\n\", (double) (end - start));\n",
    "    return 0;\n",
    "}\n",
    "\n",
    "// 함수 원형들\n",
    "\n",
    "\n",
    "void swap(int* arr, int idx1, int idx2) {\n",
    "    int temp = arr[idx1];\n",
    "    arr[idx1] = arr[idx2];\n",
    "    arr[idx2] = temp;\n",
    "}\n",
    "\n",
    "int divide(int* arr, int start_idx, int end_idx, int pivot_idx) {\n",
    "    int low = start_idx;\n",
    "    \n",
    "    swap(arr, start_idx, pivot_idx);                   // 함수 내에서 swap 함수가 사용되고 있음\n",
    "    for(int high = start_idx + 1; high <= end_idx; high++) {\n",
    "        if(arr[start_idx] > arr[high]) {\n",
    "            swap(arr, low + 1, high);                   // 여기도\n",
    "            low++;\n",
    "        }\n",
    "    }\n",
    "    swap(arr, start_idx, low);                         // 여기도\n",
    "    return low;\n",
    "}\n",
    "\n",
    "void quick_sort(int* arr, int left, int right) {\n",
    "    if(left < right) {\n",
    "        int mid = (left + right) / 2;\n",
    "        int updated_mid = divide(arr, left, right, mid);     // 역시 divide 라는 함수가 재사용중임\n",
    "\n",
    "        quick_sort(arr, left, updated_mid - 1);\n",
    "        quick_sort(arr, updated_mid + 1, right);\n",
    "    }\n",
    "}\n",
    "\n",
    "void shuffle_array(int *arr, int size) {\n",
    "    for(int i = 0; i < size; i++) {\n",
    "        int random = (rand() % size) + 1;\n",
    "        int temp = arr[i];\n",
    "        arr[i] = arr[random];\n",
    "        arr[random] = temp;\n",
    "    }\n",
    "}\n",
    "```\n",
    "만약 `shulffle_arrary`, `divide`, `swap`, `quick_sort` 함수들이 없었다면 가독성이 좋았을까?"
   ]
  },
  {
   "attachments": {},
   "cell_type": "markdown",
   "metadata": {},
   "source": [
    "* `scope`  \n",
    "어떤 변수 혹은 함수가 미치는 영향범위  \n",
    "  \n",
    "**유의**  \n",
    "python 에서는 함수에 없는 변수를 함수 scope 외에서 갖고 올 수도 있지만,  \n",
    "보통 다른 언어는 안될거임 (물론 나도 C언어만 해봐서 확언은 못하지만 C계열은 그럴거임)  \n",
    "그리고 필요한 변수는 함수 정의시 매개변수로써 모두 써주는 것이 가독성이나 디버깅이나 여러면에서 좋음  \n",
    "https://stackoverflow.com/questions/28379373/use-a-variable-in-a-function-without-passing-as-an-argument <-- 매개변수외의 변수 사용  \n",
    "https://st-lab.tistory.com/198 <-- 함수와 변수가 저장되는 메모리 구역"
   ]
  },
  {
   "cell_type": "code",
   "execution_count": 7,
   "metadata": {},
   "outputs": [
    {
     "name": "stdout",
     "output_type": "stream",
     "text": [
      "5\n",
      "105\n"
     ]
    }
   ],
   "source": [
    "def f() :\n",
    "    y = x + 100  # 함수내에서 x는 정의되지 않음\n",
    "    return y\n",
    "\n",
    "x = 5\n",
    "print(x)\n",
    "a = f()\n",
    "print(a)"
   ]
  },
  {
   "attachments": {},
   "cell_type": "markdown",
   "metadata": {},
   "source": [
    "간단하게 함수부분과 실제 main의 부분의 구분을 확실히 하자"
   ]
  }
 ],
 "metadata": {
  "kernelspec": {
   "display_name": "Python 3",
   "language": "python",
   "name": "python3"
  },
  "language_info": {
   "codemirror_mode": {
    "name": "ipython",
    "version": 3
   },
   "file_extension": ".py",
   "mimetype": "text/x-python",
   "name": "python",
   "nbconvert_exporter": "python",
   "pygments_lexer": "ipython3",
   "version": "3.11.2"
  },
  "orig_nbformat": 4
 },
 "nbformat": 4,
 "nbformat_minor": 2
}
