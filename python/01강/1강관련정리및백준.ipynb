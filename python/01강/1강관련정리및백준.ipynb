{
 "cells": [
  {
   "attachments": {},
   "cell_type": "markdown",
   "metadata": {},
   "source": [
    "변수는 값에 따라 저장된다"
   ]
  },
  {
   "cell_type": "code",
   "execution_count": 3,
   "metadata": {},
   "outputs": [
    {
     "name": "stdout",
     "output_type": "stream",
     "text": [
      "[1, 2, 100, 4]\n",
      "[1, 2, 100, 4]\n"
     ]
    }
   ],
   "source": [
    "aList = [1, 2, 3, 4]\n",
    "\n",
    "bList = aList\n",
    "\n",
    "aList[2] = 100\n",
    "\n",
    "print(aList)\n",
    "print(bList)   # bList에 대해서는 변경한 적이 없음"
   ]
  },
  {
   "cell_type": "code",
   "execution_count": 10,
   "metadata": {},
   "outputs": [
    {
     "name": "stdout",
     "output_type": "stream",
     "text": [
      "a [1, 2, 3, [6, 5, 100, 200], 5] 1853088730048\n",
      "aList[3] [6, 5, 100, 200] 1853088729984\n",
      "\n",
      "포인터 참조인 bList\n",
      "b [1, 2, 3, [6, 5, 100, 200], 5] 1853088730048\n",
      "[6, 5, 100, 200] 1853088729984\n",
      "\n",
      "aList 부분 변경 전 cList\n",
      "c [6, 5, 100, 200] 1853088729984\n",
      "\n",
      "a 부분 변경함\n",
      "aList의 일부를 포인터 참조했으나, 변경되면서 분리됨\n",
      "\n",
      "a [1, 2, 3, [100, 99, 98], 5] 1853088730048\n",
      "aList[3] [100, 99, 98] 1853088729856\n",
      "\n",
      "b [1, 2, 3, [100, 99, 98], 5] 1853088730048\n",
      "\n",
      "c [6, 5, 100, 200] 1853088729984\n"
     ]
    }
   ],
   "source": [
    "aList = [1, 2, 3, [6, 5, 100, 200], 5]\n",
    "bList = aList\n",
    "cList = aList[3]\n",
    "\n",
    "print(\"a\", aList, id(aList))\n",
    "print(\"aList[3]\", aList[3], id(aList[3]))\n",
    "\n",
    "print()\n",
    "print(\"포인터 참조인 bList\")\n",
    "print(\"b\" , bList, id(bList))\n",
    "print(aList[3], id(aList[3]))\n",
    "\n",
    "print()\n",
    "print(\"aList 부분 변경 전 cList\")\n",
    "print(\"c\", cList, id(cList))\n",
    "\n",
    "print()\n",
    "print(\"a 부분 변경함\")\n",
    "print(\"aList의 일부를 포인터 참조했으나, 변경되면서 분리됨\")\n",
    "print()\n",
    "\n",
    "aList[3] = [100, 99, 98]\n",
    "\n",
    "print(\"a\", aList, id(aList))\n",
    "print(\"aList[3]\", aList[3], id(aList[3]))\n",
    "print()\n",
    "print(\"b\", bList, id(bList))\n",
    "print()\n",
    "print(\"c\", cList, id(cList))"
   ]
  },
  {
   "attachments": {},
   "cell_type": "markdown",
   "metadata": {},
   "source": [
    "call by reference, call by value  \n",
    "C언어가 call by reference라고 착각할 수 있지만...  \n",
    "사실은 pointer, 즉 주소`값`을 반환하는 것이기 때문에  \n",
    "call by value 이다."
   ]
  },
  {
   "cell_type": "code",
   "execution_count": 12,
   "metadata": {},
   "outputs": [
    {
     "name": "stdout",
     "output_type": "stream",
     "text": [
      "[1, 2, 3, [6, 5, 100, 200], 5] 1853088730048\n",
      "[100, 2, 3, [6, 5, 100, 200], 5] 1853088730048\n"
     ]
    }
   ],
   "source": [
    "aList = [1, 2, 3, [6, 5, 100, 200], 5]\n",
    "bList = aList\n",
    "cList = aList[3]\n",
    "\n",
    "print(aList, id(aList))\n",
    "aList[0] = 100\n",
    "print(aList, id(aList))"
   ]
  },
  {
   "cell_type": "code",
   "execution_count": null,
   "metadata": {},
   "outputs": [],
   "source": []
  }
 ],
 "metadata": {
  "kernelspec": {
   "display_name": "Python 3",
   "language": "python",
   "name": "python3"
  },
  "language_info": {
   "codemirror_mode": {
    "name": "ipython",
    "version": 3
   },
   "file_extension": ".py",
   "mimetype": "text/x-python",
   "name": "python",
   "nbconvert_exporter": "python",
   "pygments_lexer": "ipython3",
   "version": "3.11.2"
  },
  "orig_nbformat": 4
 },
 "nbformat": 4,
 "nbformat_minor": 2
}
