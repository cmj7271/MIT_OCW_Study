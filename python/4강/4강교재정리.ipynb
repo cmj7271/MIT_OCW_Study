{
 "cells": [
  {
   "attachments": {},
   "cell_type": "markdown",
   "metadata": {},
   "source": [
    "* 4.1 ~ 4.2, 4.4 ~ 4.6  "
   ]
  },
  {
   "attachments": {},
   "cell_type": "markdown",
   "metadata": {},
   "source": [
    "* `stack`  \n",
    "`LIFO`(Last In First Out) 형식의 추상적 자료구조(`ADT`) 로 팬케이크나, U자형통에 비유가 많이 된다."
   ]
  },
  {
   "attachments": {},
   "cell_type": "markdown",
   "metadata": {},
   "source": [
    "**4.4 Function as object (106p. ~)**"
   ]
  },
  {
   "attachments": {},
   "cell_type": "markdown",
   "metadata": {},
   "source": [
    "* first-order objects  \n",
    "마치 실제 객체처럼 사용 가능...이라는데, 아닌 객체(secend-order class)는 뭐고 차이점이 뭐지...  \n",
    "  \n",
    "* higher-order programming  \n",
    "함수 자체를 매개변수(parameter) 로 받을 수 있다는 것인데...  \n",
    "ex)  \n",
    "```python\n",
    "def f1(a, b, c) :\n",
    "    ...\n",
    "\n",
    "def f2(f1, x, y) : # f1은 함수 이름이다.\n",
    "    ...\n",
    "```\n",
    "의문점은 wikipedia 에서는 c언어 언급은 없고, C#만 있는데...  \n",
    "c언어에서 qsort() 라는 함수는 compare() 라는 함수를 매개변수(parameter) 로 받는다.."
   ]
  },
  {
   "attachments": {},
   "cell_type": "markdown",
   "metadata": {},
   "source": [
    "* `lambda`  \n",
    "lambda (parameter) : expression (if condition else expression)  \n",
    "  \n",
    "\n",
    "이들을 활용해 특정 알고리즘을 일반화할 수 있다.  \n",
    "ex)  \n",
    "```python\n",
    "def bisection_search(x, comparison, eqsilon, low, high) :\n",
    "    ...\n",
    "\n",
    "def choose_comparison() :\n",
    "    ...\n",
    "    ...\n",
    "    ...   # 사용자에 의해 함수결정 ex) 제곱근, 세제곱근 등등 구하기, 로그 구하기...\n",
    "    return comparison\n",
    "\n",
    "compare = choose_comparison()\n",
    "bisection_search(1100, compare, ...)\n",
    "```"
   ]
  },
  {
   "attachments": {},
   "cell_type": "markdown",
   "metadata": {},
   "source": []
  }
 ],
 "metadata": {
  "language_info": {
   "name": "python"
  },
  "orig_nbformat": 4
 },
 "nbformat": 4,
 "nbformat_minor": 2
}
