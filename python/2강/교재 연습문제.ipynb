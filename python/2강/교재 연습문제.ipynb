{
 "cells": [
  {
   "attachments": {},
   "cell_type": "markdown",
   "metadata": {},
   "source": [
    "3개의 수 중 제일 큰 홀수를 구해라.  \n",
    "단, 짝수만 있을 경우 가장 작은 수를 출력한다."
   ]
  },
  {
   "cell_type": "code",
   "execution_count": null,
   "metadata": {},
   "outputs": [],
   "source": [
    "x, y, z = map(int, input().split())\n",
    "\n",
    "answer = min(x, y, z)\n",
    "\n",
    "if x % 2 != 0 and answer < x :\n",
    "    answer = x\n",
    "\n",
    "if y % 2 != 0 and answer < y :\n",
    "    answer = y\n",
    "\n",
    "if z % 2 != 0 and answer < z :\n",
    "    answer = z\n",
    "\n",
    "print(answer)"
   ]
  },
  {
   "cell_type": "code",
   "execution_count": 2,
   "metadata": {},
   "outputs": [
    {
     "name": "stdout",
     "output_type": "stream",
     "text": [
      "3\n",
      "3\n"
     ]
    }
   ],
   "source": [
    "x, y, z = map(int, input().split())\n",
    "alist = [x, y, z]\n",
    "\n",
    "\n",
    "sorted(alist)\n",
    "for n in alist:\n",
    "    if n%2 == 1:\n",
    "        print(n)\n",
    "        break\n",
    "\n",
    "print(alist[0])"
   ]
  },
  {
   "attachments": {},
   "cell_type": "markdown",
   "metadata": {},
   "source": [
    "10개의 int 를 입력받고 가장 큰 홀수 출력,  \n",
    "없으면 없다고 언급"
   ]
  },
  {
   "cell_type": "code",
   "execution_count": null,
   "metadata": {},
   "outputs": [],
   "source": [
    "cnt = 1\n",
    "ans = 0 # if ans = 0 for end it means there's no odd\n",
    "\n",
    "while cnt <= 10 :\n",
    "    num = int(input())\n",
    "    if num % 2 != 0 and num > ans :\n",
    "        ans = num\n",
    "    cnt += 1\n",
    "\n",
    "if ans == 0 :\n",
    "    print(\"there is no odd\")\n",
    "else :\n",
    "    print(ans)\n"
   ]
  },
  {
   "attachments": {},
   "cell_type": "markdown",
   "metadata": {},
   "source": [
    "결과 예측"
   ]
  },
  {
   "cell_type": "code",
   "execution_count": 1,
   "metadata": {},
   "outputs": [
    {
     "name": "stdout",
     "output_type": "stream",
     "text": [
      "0\n",
      "0\n",
      "1\n",
      "0\n"
     ]
    }
   ],
   "source": [
    "for i in range(2) :\n",
    "    print(i)\n",
    "    i = 0\n",
    "    print(i)"
   ]
  },
  {
   "attachments": {},
   "cell_type": "markdown",
   "metadata": {},
   "source": [
    "한 번 range() 돌면 바뀌지 않음"
   ]
  },
  {
   "cell_type": "code",
   "execution_count": 7,
   "metadata": {},
   "outputs": [
    {
     "name": "stdout",
     "output_type": "stream",
     "text": [
      "0\n",
      "1\n",
      "2\n",
      "\n",
      "4\n"
     ]
    }
   ],
   "source": [
    "x = 3\n",
    "for i in range(x) :\n",
    "    print(i)\n",
    "    x = 4\n",
    "\n",
    "print()\n",
    "print(x)"
   ]
  },
  {
   "cell_type": "code",
   "execution_count": 3,
   "metadata": {},
   "outputs": [
    {
     "name": "stdout",
     "output_type": "stream",
     "text": [
      "0\n",
      "0\n",
      "0\n",
      "0\n",
      "1\n",
      "1\n",
      "2\n",
      "2\n",
      "3\n",
      "3\n"
     ]
    }
   ],
   "source": [
    "x = 4\n",
    "\n",
    "for i in range(x) :\n",
    "    for j in range(x) :\n",
    "        x = 2\n",
    "        print(i)"
   ]
  },
  {
   "attachments": {},
   "cell_type": "markdown",
   "metadata": {},
   "source": [
    "* 이분 탐색 -- 3제곱근 구하기"
   ]
  },
  {
   "cell_type": "code",
   "execution_count": 16,
   "metadata": {},
   "outputs": [
    {
     "name": "stdout",
     "output_type": "stream",
     "text": [
      "low = -1 high = -0.0023 ans = -0.50115\n",
      "low = -0.50115 high = -0.0023 ans = -0.251725\n",
      "2 -0.1270125\n"
     ]
    }
   ],
   "source": [
    "x = float(input())\n",
    "\n",
    "epsilon = 0.001\n",
    "num_guesses = 0\n",
    "low = min(1, x)\n",
    "high = max(1, x)\n",
    "\n",
    "if x < 0 :\n",
    "    low = min(-1, x)\n",
    "    high = max(-1, x)\n",
    "\n",
    "ans = (low + high) / 2\n",
    "\n",
    "while abs(ans**3 - x) >= epsilon :\n",
    "    print(\"low =\", low, \"high =\", high, \"ans =\", ans)\n",
    "    num_guesses += 1\n",
    "\n",
    "    if ans**3 < x :\n",
    "        low = ans\n",
    "    else :\n",
    "        high = ans\n",
    "    \n",
    "    ans = (low + high) / 2\n",
    "\n",
    "print(num_guesses, ans)\n",
    "\n",
    "\n",
    "# 세제곱근 그래프 참고"
   ]
  },
  {
   "attachments": {},
   "cell_type": "markdown",
   "metadata": {},
   "source": [
    "* 102층에서 어디서부터 계란 깨지는지 7번안에 알 수 있는가?  \n",
    "  \n",
    "한 번에 절반씩 줄기 때문에 복잡도는 N(log n) 이다.  \n",
    "107은 2^7 ( = 128) 보다 작기 때문에 이분탐색으로 충분히 가능하다."
   ]
  },
  {
   "attachments": {},
   "cell_type": "markdown",
   "metadata": {},
   "source": [
    "* 강의 문제"
   ]
  },
  {
   "cell_type": "code",
   "execution_count": 4,
   "metadata": {},
   "outputs": [
    {
     "name": "stdout",
     "output_type": "stream",
     "text": [
      "You got out of the Lost Forest!\n"
     ]
    }
   ],
   "source": [
    "n = input(\"You're in the Lost Forest. Go left or right? \")\n",
    "\n",
    "while n == \"right\":\n",
    "    n = input(\"You're in the Lost Forest. Go left or right? \")\n",
    "\n",
    "print(\"You got out of the Lost Forest!\")"
   ]
  },
  {
   "attachments": {},
   "cell_type": "markdown",
   "metadata": {},
   "source": [
    "저 문제는 \"right\" 만 아니면 탈출하므로 \"left\" 외로도 탈출 가능  \n",
    "어떻게하면 보완가능할까?"
   ]
  },
  {
   "cell_type": "code",
   "execution_count": 2,
   "metadata": {},
   "outputs": [
    {
     "name": "stdout",
     "output_type": "stream",
     "text": [
      "You got out of the Lost Forest!\n"
     ]
    }
   ],
   "source": [
    "n = input(\"You're in the Lost Forest. Go left or right? \")\n",
    "\n",
    "while n != \"left\":\n",
    "    n = input(\"You're in the Lost Forest. Go left or right? \")\n",
    "\n",
    "print(\"You got out of the Lost Forest!\")"
   ]
  },
  {
   "cell_type": "code",
   "execution_count": 3,
   "metadata": {},
   "outputs": [
    {
     "name": "stdout",
     "output_type": "stream",
     "text": [
      "5\n"
     ]
    }
   ],
   "source": [
    "mysum = 0\n",
    "\n",
    "for i in range(5, 11, 2):\n",
    "    mysum += i\n",
    "    if mysum == 5:\n",
    "        break\n",
    "        mysum += 1\n",
    "\n",
    "print(mysum)"
   ]
  },
  {
   "cell_type": "code",
   "execution_count": null,
   "metadata": {},
   "outputs": [],
   "source": []
  }
 ],
 "metadata": {
  "kernelspec": {
   "display_name": "Python 3",
   "language": "python",
   "name": "python3"
  },
  "language_info": {
   "codemirror_mode": {
    "name": "ipython",
    "version": 3
   },
   "file_extension": ".py",
   "mimetype": "text/x-python",
   "name": "python",
   "nbconvert_exporter": "python",
   "pygments_lexer": "ipython3",
   "version": "3.11.2"
  },
  "orig_nbformat": 4
 },
 "nbformat": 4,
 "nbformat_minor": 2
}
