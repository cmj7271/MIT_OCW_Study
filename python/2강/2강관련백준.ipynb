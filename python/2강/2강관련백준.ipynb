{
 "cells": [
  {
   "attachments": {},
   "cell_type": "markdown",
   "metadata": {},
   "source": [
    "https://www.acmicpc.net/blog/view/109  \n",
    "이분탐색 글"
   ]
  },
  {
   "attachments": {},
   "cell_type": "markdown",
   "metadata": {},
   "source": [
    "2805 나무자르기"
   ]
  },
  {
   "cell_type": "code",
   "execution_count": 1,
   "metadata": {},
   "outputs": [
    {
     "name": "stdout",
     "output_type": "stream",
     "text": [
      "15\n"
     ]
    }
   ],
   "source": [
    "n, m = map(int, input().split())\n",
    "tree = list(map(int, input().split()))\n",
    "\n",
    "min_h = 0\n",
    "max_h = max(tree)\n",
    "h = (min_h + max_h) // 2\n",
    "tree_getted = 0\n",
    "\n",
    "while max_h - min_h > 1 :\n",
    "    tree_getted = 0\n",
    "    for t in tree :\n",
    "        if t - h > 0 :\n",
    "            tree_getted += (t - h)\n",
    "    \n",
    "    if m <= tree_getted :\n",
    "        min_h = h\n",
    "    else : \n",
    "        max_h = h\n",
    "    h = (max_h + min_h) // 2\n",
    "\n",
    "# if tree_getted - m >= n :\n",
    "    # print(max_h)\n",
    "# else :\n",
    "    # print(min_h)\n",
    "\n",
    "print(min_h)"
   ]
  },
  {
   "attachments": {},
   "cell_type": "markdown",
   "metadata": {},
   "source": [
    "* 1654 랜선 자르기 ... 어쨌든 이분탐색이래"
   ]
  },
  {
   "cell_type": "code",
   "execution_count": 15,
   "metadata": {},
   "outputs": [
    {
     "name": "stdout",
     "output_type": "stream",
     "text": [
      "200\n"
     ]
    }
   ],
   "source": [
    "num, goal = map(int, input().split())\n",
    "lst = list()\n",
    "\n",
    "for _ in range(num) :\n",
    "    a = int(input())\n",
    "    lst.append(a)\n",
    "\n",
    "min_len = 1\n",
    "max_len = max(lst)\n",
    "\n",
    "if goal == 1 :   # 범위에는 T, F가 모두 존재해야 함\n",
    "    max_len += 1\n",
    "\n",
    "len = (min_len + max_len) // 2\n",
    "target = 0\n",
    "\n",
    "while max_len - min_len >= 0 :\n",
    "    target = 0\n",
    "    for l in lst :\n",
    "        target += (l // len)\n",
    "\n",
    "    if target >= goal :\n",
    "        min_len = len + 1\n",
    "    else :\n",
    "        max_len = len - 1\n",
    "    len = (min_len + max_len) // 2\n",
    "\n",
    "print(max_len)"
   ]
  },
  {
   "cell_type": "code",
   "execution_count": 16,
   "metadata": {},
   "outputs": [
    {
     "name": "stdout",
     "output_type": "stream",
     "text": [
      "200\n"
     ]
    }
   ],
   "source": [
    "num, goal = map(int, input().split())\n",
    "lst = list()\n",
    "\n",
    "for _ in range(num) :\n",
    "    a = int(input())\n",
    "    lst.append(a)\n",
    "\n",
    "min_len = 1\n",
    "max_len = max(lst)\n",
    "\n",
    "if goal == 1 :   # 범위에는 T, F가 모두 존재해야 함\n",
    "    max_len += 1\n",
    "\n",
    "len = (min_len + max_len) // 2\n",
    "target = 0\n",
    "\n",
    "while max_len - min_len > 1 :\n",
    "    target = 0\n",
    "    for l in lst :\n",
    "        target += (l // len)\n",
    "\n",
    "    if target >= goal :\n",
    "        min_len = len\n",
    "    else :\n",
    "        max_len = len\n",
    "    len = (min_len + max_len) // 2\n",
    "\n",
    "print(min_len)"
   ]
  },
  {
   "attachments": {},
   "cell_type": "markdown",
   "metadata": {},
   "source": [
    "두 개 차이가 뭐지...?"
   ]
  }
 ],
 "metadata": {
  "kernelspec": {
   "display_name": "Python 3",
   "language": "python",
   "name": "python3"
  },
  "language_info": {
   "codemirror_mode": {
    "name": "ipython",
    "version": 3
   },
   "file_extension": ".py",
   "mimetype": "text/x-python",
   "name": "python",
   "nbconvert_exporter": "python",
   "pygments_lexer": "ipython3",
   "version": "3.11.2"
  },
  "orig_nbformat": 4
 },
 "nbformat": 4,
 "nbformat_minor": 2
}
