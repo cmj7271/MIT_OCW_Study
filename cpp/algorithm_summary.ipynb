{
 "cells": [
  {
   "cell_type": "markdown",
   "metadata": {},
   "source": [
    "* 이분탐색  \n",
    "기본은 숫자 배열에서 특정 숫자를 찾는 것  \n",
    "단, 배열이 `정렬되어있음`이 보장되어야 함  \n",
    "찾는 숫자 `이상`의 위치(`iter`)를 반환하는 lower_bound,  \n",
    "찾는 숫자 `초과`인 위치(`iter`)를 반환하는 upper_bound 를 제공함  \n",
    "  \n",
    "  "
   ]
  },
  {
   "cell_type": "markdown",
   "metadata": {},
   "source": []
  }
 ],
 "metadata": {
  "language_info": {
   "name": "python"
  },
  "orig_nbformat": 4
 },
 "nbformat": 4,
 "nbformat_minor": 2
}
