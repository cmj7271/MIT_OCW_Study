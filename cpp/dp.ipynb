{
 "cells": [
  {
   "cell_type": "markdown",
   "metadata": {},
   "source": [
    "참고문헌 : 문제해결력을 높이는 알고리즘과 자료구조(오츠키 켄스케, 길벗 출판사)"
   ]
  },
  {
   "cell_type": "markdown",
   "metadata": {},
   "source": [
    "* dp(dynamic programming) : 동적계획법  \n",
    "어렵고 복잡한 문제를 잘 정리하여 작은 문제로 쪼개서 각각 해결하여 메모이제이션을 활용하여 작은 문제에서 큰 문제를 차례대로 해결해나가는 것  \n",
    "어느 점에서는 divide-and-conquer(분할정복)과 유사하다고 볼 수 있음  \n",
    "핵심은 작은 부분 문제로 쪼개고 이를 활용하여 큰 문제를 해결하는 것  \n",
    "이를 위해서 점화식을 떠올리는 것도 좋은 방법이다.  \n",
    "ex) dp[i] 까지를 활용해서 어떻게 dp[i + 1] 을 구할 수 있을까? --> 재귀, 피보나치와 유사함  \n",
    "  \n",
    "cf) 왜 `dynamic` 이라고 이름지었을까...  \n",
    "개인적으로는 앞의 결과에 따라 유동적으로 다음 답이 결정되기 때문에 역동적인 느낌이 있어서 그렇지 않나...(~~걍 이름이 멋져보이고 어려워보여서~~)"
   ]
  },
  {
   "cell_type": "markdown",
   "metadata": {},
   "source": [
    "영문 [wikipedia](https://en.wikipedia.org/wiki/Dynamic_programming) 참조함  \n",
    "\n",
    "dp 는 문제가 `optimal substructure` 와 `overlapping sub-problems`의 성질을 만족해야 한다고 한다.  \n",
    "`optimal substructure` :  \n",
    "`A problem is said to have optimal substructure if an optimal solution can be constructed from optimal solutions of its subproblems.`  \n",
    "즉, 그 문제의 부분문제의 최적해가 전체 문제의 해를 구하는데 활용되어야 함.  \n",
    "피보나치를 예시로 들면, f(10)을 구하는데, 부분문제인 f(9), f(8)이 활용됨  \n",
    "  \n",
    "좀 더 자세한 설명은 일단 해당 문제가 부분 문제로 쪼개져야하며, 각각의 비용함수가 결정되어야 한다. 이상황에서 모든 부분문제의 비용함수가 최소일때가 전체 문제의 해답임은 거의 자명할 것이다.  \n",
    "따라서, 부분문제는 각각 독립적이어야 한다는 조건도 필요하다.  \n",
    "만약, dp[10]을 구하는데, dp[9]가 같이 변해야한다면, 이에 따라 dp[8]도 변해야 하므로 적절하지 않다. \n",
    "  \n",
    "`overlapping subproblems` :  \n",
    "`a problem is said to have overlapping subproblems if the problem can be broken down into subproblems which are reused several times or a recursive algorithm for the problem solves the same subproblem over and over rather than always generating new subproblems.`  \n",
    "즉, 전체 문제를 구하는 과정에서 **같은** 부분 문제가 **반복**되서 사용된다는 것이다. 새로운 부분문제를 만들기보다는.  \n",
    "예시로 피보니치에서 f(10)을 구하는 과정의 f(5)는 f(6), f(7), f(8).. 등을 구하는데 **같은** 값으로써 **반복**적으로 재활용된다.  \n",
    "  \n",
    "`divide and qonquer` 와 `dynamic programming` :  \n",
    "이 둘은 상당히 비슷해보인다.  \n",
    "둘다 문제를 쪼개서, 작은 문제를 통해 원래 문제를 해결한다는 점이 그렇다.  \n",
    "이는 둘다 문제가 `optimal structure`를 만족하는 문제에 대해 사용하기 때문이다. 즉, 문제의 해는 부분문제의 해의 합이라는 점이.  \n",
    "하지만, 이 둘은 분명히 구분되는데 이는 `overlapping subproblems` 때문이다.  \n",
    "`divide and qonquer`의 경우는 `non-overlapping subproblems`이다.  \n",
    "이 말은 작은 문제로 쪼개지지만, 작은 문제의 해가 `그대로` 사용되지는 않는다.  \n",
    "`divide and qonquer` 의 대표적인 예시인 `merge sort`의 경우,  \n",
    "구간을 2개로 쪼개서 각각에 대해 정렬하고(`divide`),  \n",
    "정렬된 두 구간을 merge하면서(`conquer`)해결된다.  \n",
    "이 과정 중 merge는 정렬된 두 구간을 `그대로` 활용하는 것이 아니라, 제정렬되면서 원래의 답이 사라진다.  \n",
    "이런 부분이 원래의 답이 그대로 사용되는, 즉 `overlapping subproblems`를 가지는 `dynamic programming` 과의 차별점이다."
   ]
  },
  {
   "cell_type": "markdown",
   "metadata": {},
   "source": [
    "여기까지가 이론적인 이야기이다. 이제 실제 문제를 어떻게 풀지 문제와 함께 알아보자  \n",
    "\n",
    "----------"
   ]
  },
  {
   "cell_type": "markdown",
   "metadata": {},
   "source": [
    "* 15988 1, 2, 3 더하기 3  \n",
    "어떤 정수 n 에 대한 방법의 수를 어떻게 구할 수 있을까?  \n",
    "dp[n] 이라는 dp 테이블을 정의해보자.  \n",
    "dp[n] : 숫자 n 에 대해 문제조건을 만족하는 경우의 수  \n",
    "dp[n] 은 dp[n + 1], dp[n + 2], dp[n + 3]에 기여할 수 있다.  \n",
    "왜냐하면, 각각 1, 2, 3을 더해 도달할 수 있기 때문  \n",
    "  \n",
    "    * dp[n] + 1 + 2 --> dp[n + 3] 은 어떠할까?  \n",
    "이 경우는 세면 안된다. 왜냐하면, dp[n] + 1은 dp[n + 1]로 해석 가능하다.(n + 1로 가는 방법은 n에서 1 이동하는 방법이 포함된다.)  \n",
    "이에 비해 dp[n] + 3 --> dp[n + 3]은 대체할 방법이 없다.  \n",
    "  \n",
    "    따라서, dp[n + 1] += dp[n] * 1, dp[n + 2] += dp[n] * 1 ... 이다.(출발지에서 목적지로 중복이 안되게 가는 방법이 1가지이므로 곱하기 1이다)  \n",
    "\n",
    "    이 사실을 통해, 문제를 해결하면,  \n",
    "    dp[i + 1] += dp[i], dp[i + 1] += dp[i], dp[i + 3] += dp[i]를 반복해주면 된다.  \n",
    "    이 방법은 앞의 작은 것이 뒤의 큰 것으로 연결되는 방식으로 밀기 전이(push_base) 라고도 불린다.  \n",
    "    다른 방식은 끌기 전이(pull_base)로, dp[i] = dp[i - 1] + dp[i - 2] + dp[i - 3]으로 구현된다.(앞의 작은 것들을 끌어 와서 큰 것을 구한다)  \n",
    "      \n",
    "    keyword : <input type = \"checkbox\" checked> push_base, <input type = \"checkbox\" checked> pull_base"
   ]
  },
  {
   "cell_type": "markdown",
   "metadata": {},
   "source": [
    "* 11053 가장 긴 증가하는 부분 수열  \n",
    "위 문제는 dp라는게 비교적 직관적이었지만, 이 문제는 별 느낌이 안든다...  \n",
    "일단 무식하게 구하려고 한다면 어떨까?  \n",
    "최악의 경우는 수열의 크기 n에 대해, 모든 부분 수열을 찾고, 증가하는 수열인지 판단하고, 그 중에서 길이가 가장 긴 수열을 찾아야 할 것이다. 즉 시간복잡도는 O($2^n$)일 것이다.(~~답도 없는 시간복잡도~~)  \n",
    "백준 예시를 유심히 살펴보다보면...  \n",
    "마지막 50 이 없어지더라도, 정답인 부분수열이 크게 바뀌지 않는다. 즉, 50만 제거한 상태이다.  \n",
    "그렇다면, 부분문제로 쪼갤 수 있지 않을까?  \n",
    "한 번 시도해보자.  \n",
    "dp 테이블 dp[n]을 n번째 index(0_based)까지에서의 최대길이라고 정의하자  \n",
    "이 상태에서 dp[n + 1]을 구할 수 있을까?  \n",
    "n + 1 index에 해당하는 숫자가 i index에 해당하는 숫자보다 크다는 것만 보장된다면, dp[i]에 1 추가하여 dp[n + 1]을 작성하는 것이 가능하다. 가능한 수 중에 최댓값을 저장하면 된다.  \n",
    "이 방법은 i 번째에 대하여, i - 1 검사해야하므로, O($n^2$)이다. 따라서 주어진 문제를 시간안에 해결가능하다.  \n",
    "  \n",
    "keyword :  \n",
    "<input type = \"checkbox\" checked> 접근방식"
   ]
  },
  {
   "cell_type": "markdown",
   "metadata": {},
   "source": [
    "* 1149 RGB거리  \n",
    "역시 무식하게 한다면... 지수시간이 걸릴것이다.(매 3가지 경우의 수가 있기 때문)  \n",
    "위와 비슷하게 접근한다면...  \n",
    "dp[i] 를 i번째 집까지의 최소비용으로 정의해보자.  \n",
    "역시 dp[i + 1]을 구할 수 있을까?  \n",
    "...dp[i + 1] 은 dp[i]에서 i + 1중 최솟값을 고르면 될 것 같지만...  \n",
    "조건상 dp[i] 가 마지막으로 고른 집의 색깔이라는 정보가 필요하다. 따라서 이것만으로는 `정보`가 부족하다.  \n",
    "따라서 정보를 추가해보자.  \n",
    "dp[house][color] : 마지막으로 `color`를 고른 `house` 까지의 최솟값  \n",
    "이렇게 정의하면 충분히 정할 수 있다.  \n",
    "예시로 dp[10][2]는 dp[9][0], dp[9][1] 중 최솟값에서 (10, 2)에 해당하는 비용을 더하면 된다.  \n",
    "  \n",
    "    --> 부분문제를 쪼갰다면, 부분문제간의 전이 관계(연결해서 풀 방법)을 고민해보자. 안된다면, 정보를 추가해보자. index 추가하는 것도 좋은 방법  \n",
    "    * index 추가에 대해 :  \n",
    "    분명 index 추가는 정보의 추가를 일으키기 떄문에, 구하기 쉬워진다. 하지만, index 추가로 인한 공간복잡도 상승과 추가된 공간에 대한 추가적인 연산은 시간복잡도도 상승시킨다.  \n",
    "    따라서 문제는 해결할 수 있되, 최대한 적은 정보로 푸는 것이 핵심이다.  \n",
    "  \n",
    "keyword :  \n",
    "<input type = \"checkbox\" checked> dp테이블에서의 index 활용"
   ]
  },
  {
   "cell_type": "markdown",
   "metadata": {},
   "source": [
    "* 9251 LCS  \n",
    "문자열의 길이에 따른 dp면 될 거 같은 느낌  \n",
    "dp[len1][len2] : 첫번째 문자열에서 len1 index 까지, 두번째 문자열에서 len2 index까지에서 LCS 길이  \n",
    "  \n",
    "    전이(부분문제간의 연결)는 어떻게 될까?  \n",
    "    이 문제에서는 크게 2가지로 나뉘어진다.  \n",
    "  \n",
    "1. 마지막 index의 문자가 서로 같을 때,  \n",
    "마지막 문자들에 의해 길이가 1 늘어날 것이므로,  \n",
    "(len1 - 1, len2 - 1)에서의 값에 1 더하면 된다.  \n",
    "  \n",
    "2. 마지막 문자들이 같지 않을 때,  \n",
    "(len1 - 1, len2) 혹은 (len1, len2 - 1) 중 최대값일 것이다.  \n",
    "예시를 들면, BCDA 와 CBV에 대해서,  \n",
    "A != V 이기 때문에 BCDA, CB 혹은 BCD, CBV 중 최댓값이 곧 BCDA, CBV 간의 최대값이다.  \n",
    "  \n",
    "참고문헌 : [velog](https://velog.io/@emplam27/%EC%95%8C%EA%B3%A0%EB%A6%AC%EC%A6%98-%EA%B7%B8%EB%A6%BC%EC%9C%BC%EB%A1%9C-%EC%95%8C%EC%95%84%EB%B3%B4%EB%8A%94-LCS-%EC%95%8C%EA%B3%A0%EB%A6%AC%EC%A6%98-Longest-Common-Substring%EC%99%80-Longest-Common-Subsequence)"
   ]
  },
  {
   "cell_type": "markdown",
   "metadata": {},
   "source": []
  }
 ],
 "metadata": {
  "language_info": {
   "name": "python"
  },
  "orig_nbformat": 4
 },
 "nbformat": 4,
 "nbformat_minor": 2
}
